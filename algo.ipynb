{
 "cells": [
  {
   "cell_type": "code",
   "execution_count": 39,
   "metadata": {},
   "outputs": [],
   "source": [
    "import numpy as np\n",
    "from copy import deepcopy, copy"
   ]
  },
  {
   "cell_type": "markdown",
   "metadata": {},
   "source": [
    "### Data Structures"
   ]
  },
  {
   "cell_type": "markdown",
   "metadata": {},
   "source": [
    "#### linked list"
   ]
  },
  {
   "cell_type": "code",
   "execution_count": 196,
   "metadata": {},
   "outputs": [],
   "source": [
    "# https://www.youtube.com/playlist?list=PLBZBJbE_rGRV8D7XZ08LK6z-4zPoWzu5H # dojo\n",
    "class LinkedList:\n",
    "    def __init__(self, value, next_child=None):\n",
    "        self.value=value\n",
    "        self.next = next_child\n",
    "head_node = LinkedList(0) # header\n",
    "for j in [5,7,8,10]:\n",
    "    head_node = LinkedList(j, head_node)"
   ]
  },
  {
   "cell_type": "code",
   "execution_count": 198,
   "metadata": {},
   "outputs": [
    {
     "data": {
      "text/plain": [
       "5"
      ]
     },
     "execution_count": 198,
     "metadata": {},
     "output_type": "execute_result"
    }
   ],
   "source": [
    "# counter\n",
    "def countNode(head_node):\n",
    "    count = 0\n",
    "    tmp = deepcopy(head_node)\n",
    "    while(tmp is not None):\n",
    "        count+=1\n",
    "        tmp = tmp.next\n",
    "    return count\n",
    "countNode(head_node)"
   ]
  },
  {
   "cell_type": "code",
   "execution_count": 199,
   "metadata": {},
   "outputs": [
    {
     "data": {
      "text/plain": [
       "'10->8->7->5->0'"
      ]
     },
     "execution_count": 199,
     "metadata": {},
     "output_type": "execute_result"
    }
   ],
   "source": [
    "# printer\n",
    "def print_ll(head_node):\n",
    "    tmp = deepcopy(head_node)\n",
    "    text=f'{tmp.value}'\n",
    "    while (tmp.next is not None):\n",
    "        text=f'{text}->{tmp.next.value}'\n",
    "        tmp = tmp.next\n",
    "    return text\n",
    "print_ll(head_node)"
   ]
  },
  {
   "cell_type": "code",
   "execution_count": 200,
   "metadata": {},
   "outputs": [
    {
     "data": {
      "text/plain": [
       "'0->5->7->8->10'"
      ]
     },
     "execution_count": 200,
     "metadata": {},
     "output_type": "execute_result"
    }
   ],
   "source": [
    "# inverse linked list\n",
    "def inverse_ll(node, prev=None):\n",
    "    tmp = deepcopy(node)\n",
    "    node_next = tmp.next\n",
    "    tmp.next = prev\n",
    "    if node_next is None:\n",
    "        return tmp\n",
    "    else:\n",
    "        return inverse(node_next, tmp)\n",
    "print_ll(inverse_ll(head_node))"
   ]
  },
  {
   "cell_type": "markdown",
   "metadata": {},
   "source": [
    "#### Tree"
   ]
  },
  {
   "cell_type": "code",
   "execution_count": 23,
   "metadata": {},
   "outputs": [],
   "source": [
    "# binary tree\n",
    "class BTree:\n",
    "    def __init__(self, value, left=None, right=None):\n",
    "        self.value = value\n",
    "        self.right = right\n",
    "        self.left = left\n",
    "    \n",
    "# простое дерево\n",
    "c1_1 = BTree(5); c1_2 = BTree(6); c1_3 = BTree(4)\n",
    "c2_1 = BTree(3, c1_1, c1_2)\n",
    "root = BTree(2, c2_1, c1_3)"
   ]
  },
  {
   "cell_type": "code",
   "execution_count": 26,
   "metadata": {},
   "outputs": [
    {
     "data": {
      "text/plain": [
       "20"
      ]
     },
     "execution_count": 26,
     "metadata": {},
     "output_type": "execute_result"
    }
   ],
   "source": [
    "def find_sum(node, s=0):\n",
    "    if node == None:\n",
    "        return 0\n",
    "    return node.value + find_sum(node.right) + find_sum(node.left)\n",
    "find_sum(root)"
   ]
  },
  {
   "cell_type": "code",
   "execution_count": null,
   "metadata": {},
   "outputs": [],
   "source": []
  },
  {
   "cell_type": "markdown",
   "metadata": {},
   "source": [
    "### Algo"
   ]
  },
  {
   "cell_type": "markdown",
   "metadata": {
    "heading_collapsed": true
   },
   "source": [
    "#### recursion"
   ]
  },
  {
   "cell_type": "code",
   "execution_count": 164,
   "metadata": {
    "hidden": true
   },
   "outputs": [],
   "source": [
    "def factorial(x):\n",
    "    if x == 0: # останов рекурсии\n",
    "        return 1\n",
    "    else: # петля\n",
    "        return factorial(x-1)*x"
   ]
  },
  {
   "cell_type": "code",
   "execution_count": 190,
   "metadata": {
    "hidden": true
   },
   "outputs": [
    {
     "data": {
      "text/plain": [
       "[1, 1, 2, 3, 5]"
      ]
     },
     "execution_count": 190,
     "metadata": {},
     "output_type": "execute_result"
    }
   ],
   "source": [
    "# without recursion\n",
    "def fib(n):\n",
    "    if n in (0, 1, 2):\n",
    "        return n * [1]\n",
    "    a, b = f_list = [1, 1]\n",
    "    count = 2\n",
    "    while(count < n):\n",
    "        a, b = b, a+b\n",
    "        f_list.append(b)\n",
    "        count +=1\n",
    "    return f_list\n",
    "fib(5)"
   ]
  },
  {
   "cell_type": "code",
   "execution_count": 194,
   "metadata": {
    "hidden": true
   },
   "outputs": [
    {
     "data": {
      "text/plain": [
       "[1, 1, 2, 3, 5]"
      ]
     },
     "execution_count": 194,
     "metadata": {},
     "output_type": "execute_result"
    }
   ],
   "source": [
    "# with recursion\n",
    "def fib(n):\n",
    "    if n >= 2:\n",
    "        return fib(n-2) + fib(n-1)\n",
    "    else:\n",
    "        return 1\n",
    "[fib(j) for j in range(5)]"
   ]
  },
  {
   "cell_type": "code",
   "execution_count": 50,
   "metadata": {
    "hidden": true
   },
   "outputs": [
    {
     "name": "stdout",
     "output_type": "stream",
     "text": [
      "[1, 1]\n",
      "[2]\n",
      "2\n"
     ]
    }
   ],
   "source": [
    "# frog with 11 feet\n",
    "dist_from_start = 0 # max = 11\n",
    "global wc; wc = 0\n",
    "def get_way_count(N_feet, dist_from_start=0, way=[]):\n",
    "    global wc\n",
    "    if dist_from_start == N_feet-1: # last step\n",
    "        wc+=1\n",
    "        way.append(1)\n",
    "        print(way)\n",
    "        return\n",
    "    if dist_from_start == N_feet-2: # pre-last step\n",
    "        wc+=2\n",
    "        print(way + [1, 1])\n",
    "        print(way + [2])\n",
    "        return\n",
    "    # 1 step\n",
    "    dist_from_start += 1\n",
    "    # fork\n",
    "    way1, way2 = copy(way), copy(way)\n",
    "    way1.append(1)\n",
    "    get_way_count(N_feet, dist_from_start, way1)\n",
    "    # or 2 steps\n",
    "    dist_from_start += 1\n",
    "    way2.append(2)\n",
    "    get_way_count(N_feet, dist_from_start, way2)\n",
    "N_stones = 1\n",
    "get_way_count(N_stones+1) \n",
    "print(wc)"
   ]
  },
  {
   "cell_type": "markdown",
   "metadata": {},
   "source": [
    "#### sort"
   ]
  },
  {
   "cell_type": "code",
   "execution_count": 32,
   "metadata": {},
   "outputs": [
    {
     "name": "stdout",
     "output_type": "stream",
     "text": [
      "12.5 s ± 290 ms per loop (mean ± std. dev. of 7 runs, 1 loop each)\n"
     ]
    }
   ],
   "source": [
    "%%timeit -n 1\n",
    "# bubble sort O(n**2)\n",
    "def sort_bubble(arr):\n",
    "    for i in range(len(arr)):\n",
    "        for j in range(len(arr)):\n",
    "            if (i<j) and arr[i]>arr[j]:\n",
    "                arr[i], arr[j] = arr[j], arr[i]\n",
    "    return arr\n",
    "arr = np.random.randint(10, size=10000)\n",
    "_ = sort_bubble(arr)"
   ]
  },
  {
   "cell_type": "code",
   "execution_count": 53,
   "metadata": {},
   "outputs": [
    {
     "name": "stdout",
     "output_type": "stream",
     "text": [
      "5.24 ms ± 840 µs per loop (mean ± std. dev. of 7 runs, 1 loop each)\n"
     ]
    }
   ],
   "source": [
    "%%timeit -n 1\n",
    "# quicksort O(log(n) * n)\n",
    "def qsort(arr):\n",
    "    if len(arr) < 2:\n",
    "        return arr\n",
    "    i_start = int(len(arr) / 2)\n",
    "    a_compare = arr[i_start]\n",
    "    arr_1, arr_2, arr_3 = [], [], []\n",
    "    for a in arr: # O(N)\n",
    "        if a < a_compare:\n",
    "            arr_1.append(a)\n",
    "        elif a > a_compare:\n",
    "            arr_3.append(a)\n",
    "        else:\n",
    "            arr_2.append(a)\n",
    "    return qsort(arr_1) + arr_2 + qsort(arr_3)\n",
    "# o(algo) = 2 * log(N) * N ~ Nlog(N)\n",
    "arr = np.random.randint(10, size=10000)\n",
    "_ = qsort(arr)"
   ]
  },
  {
   "cell_type": "code",
   "execution_count": null,
   "metadata": {},
   "outputs": [],
   "source": [
    "# mergesort\n",
    "def msort(arr, res_arr=[]):\n",
    "    if len(arr) == 2:\n",
    "        res_arr.append()\n",
    "    \n",
    "    "
   ]
  },
  {
   "cell_type": "code",
   "execution_count": 252,
   "metadata": {},
   "outputs": [],
   "source": [
    "arr = sorted(np.random.randint(500, size=1000))\n",
    "elem = np.random.randint(500)"
   ]
  },
  {
   "cell_type": "code",
   "execution_count": 244,
   "metadata": {},
   "outputs": [
    {
     "name": "stdout",
     "output_type": "stream",
     "text": [
      "214 µs ± 23.1 µs per loop (mean ± std. dev. of 7 runs, 10 loops each)\n"
     ]
    }
   ],
   "source": [
    "%%timeit -n 10\n",
    "# linear search = O(N)\n",
    "def lsearch(arr, elem):\n",
    "    for i in range(len(arr)):\n",
    "        if arr[i] == elem:\n",
    "            return i\n",
    "        elif arr[i] > elem: # pass the elem possibility\n",
    "            return\n",
    "    return    \n",
    "lsearch(arr, elem)           "
   ]
  },
  {
   "cell_type": "code",
   "execution_count": 255,
   "metadata": {},
   "outputs": [
    {
     "name": "stdout",
     "output_type": "stream",
     "text": [
      "31.2 µs ± 10.1 µs per loop (mean ± std. dev. of 7 runs, 10 loops each)\n"
     ]
    }
   ],
   "source": [
    "%%timeit -n 10\n",
    "# binary search = log(N)\n",
    "def bsearch(arr, elem, i1=0, i2=len(arr)):\n",
    "    # array is already sorted\n",
    "    if len(arr[i1:i2]) == 0:\n",
    "        return\n",
    "    if (len(arr[i1:i2]) == 1):\n",
    "        if (arr[i1:i2][0] == elem):\n",
    "            return i1\n",
    "        else:\n",
    "            return\n",
    "        \n",
    "    di = len(arr[i1:i2])//2\n",
    "    if elem == arr[i1+di]:\n",
    "        return i1+di\n",
    "    elif elem > arr[i1+di]:\n",
    "        i1 = i1 + di + 1\n",
    "    else:\n",
    "        i2 = i1 + di\n",
    "    return bsearch(arr, elem, i1, i2)\n",
    "bsearch(arr, elem) "
   ]
  },
  {
   "cell_type": "markdown",
   "metadata": {},
   "source": [
    "#### задача комивояжера"
   ]
  },
  {
   "cell_type": "code",
   "execution_count": 47,
   "metadata": {},
   "outputs": [],
   "source": [
    "# все перестановки набора input_list - n! значений\n",
    "def perm(input_list):\n",
    "    if len(input_list) in (0, 1):\n",
    "        return input_list\n",
    "    p_list = []\n",
    "    for i in range(len(input_list)):\n",
    "        input_list[0], input_list[i] = input_list[i], input_list[0] \n",
    "        if len(input_list[1:]) == 1: \n",
    "            p_list.append(input_list[:1] + input_list[1:])\n",
    "        else:\n",
    "            for sub in perm(input_list[1:]):\n",
    "                p_list.append([input_list[0]] + sub)\n",
    "    return p_list\n",
    "\n",
    "# Ищем кратчайший путь посещения всех заданных пунктов = рассматриваем все перестановки\n",
    "# и выбираем самую кратчайшую метрику суммарного расстояния"
   ]
  },
  {
   "cell_type": "code",
   "execution_count": 41,
   "metadata": {},
   "outputs": [
    {
     "data": {
      "text/plain": [
       "16"
      ]
     },
     "execution_count": 41,
     "metadata": {},
     "output_type": "execute_result"
    }
   ],
   "source": [
    "# Класс задач с поиском всех подмножеств заданного множества\n",
    "# Так как имея N элементов для выбора подмножеств мы стоим перед дилеммой\n",
    "# a, b, c.. = (NULL or a), (NULL or b) ... -> получаем 2**N вариантов\n",
    "def sub_set(arr):\n",
    "    p_list = []\n",
    "    if len(arr) == 1:\n",
    "        p_list.append(arr)\n",
    "        p_list.append([])\n",
    "    else:\n",
    "        for n_arr in sub_set(arr[1:]):\n",
    "            p_list.append([arr[0]] + n_arr)\n",
    "            p_list.append(n_arr)\n",
    "    return p_list\n",
    "len(sub_set([1,2,3,4])) # ==2**4"
   ]
  },
  {
   "cell_type": "code",
   "execution_count": null,
   "metadata": {},
   "outputs": [],
   "source": []
  }
 ],
 "metadata": {
  "kernelspec": {
   "display_name": "Python 3",
   "language": "python",
   "name": "python3"
  },
  "language_info": {
   "codemirror_mode": {
    "name": "ipython",
    "version": 3
   },
   "file_extension": ".py",
   "mimetype": "text/x-python",
   "name": "python",
   "nbconvert_exporter": "python",
   "pygments_lexer": "ipython3",
   "version": "3.7.3"
  },
  "toc": {
   "base_numbering": "",
   "nav_menu": {},
   "number_sections": false,
   "sideBar": true,
   "skip_h1_title": false,
   "title_cell": "Table of Contents",
   "title_sidebar": "Contents",
   "toc_cell": false,
   "toc_position": {},
   "toc_section_display": true,
   "toc_window_display": false
  },
  "varInspector": {
   "cols": {
    "lenName": 16,
    "lenType": 16,
    "lenVar": 40
   },
   "kernels_config": {
    "python": {
     "delete_cmd_postfix": "",
     "delete_cmd_prefix": "del ",
     "library": "var_list.py",
     "varRefreshCmd": "print(var_dic_list())"
    },
    "r": {
     "delete_cmd_postfix": ") ",
     "delete_cmd_prefix": "rm(",
     "library": "var_list.r",
     "varRefreshCmd": "cat(var_dic_list()) "
    }
   },
   "types_to_exclude": [
    "module",
    "function",
    "builtin_function_or_method",
    "instance",
    "_Feature"
   ],
   "window_display": false
  }
 },
 "nbformat": 4,
 "nbformat_minor": 4
}
