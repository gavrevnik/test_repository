{
 "cells": [
  {
   "cell_type": "code",
   "execution_count": 2,
   "metadata": {},
   "outputs": [
    {
     "data": {
      "text/html": [
       "<style>.container { width:100% !important; }</style>"
      ],
      "text/plain": [
       "<IPython.core.display.HTML object>"
      ]
     },
     "metadata": {},
     "output_type": "display_data"
    }
   ],
   "source": [
    "import pandas as pd; import sys\n",
    "import matplotlib.pyplot as plt\n",
    "import numpy as np\n",
    "import datetime\n",
    "\n",
    "\n",
    "from IPython.display import display\n",
    "pd.options.display.max_columns = None\n",
    "pd.options.display.max_rows = 1000\n",
    "pd.options.display.max_colwidth = 100\n",
    "from IPython.core.display import display, HTML\n",
    "display(HTML(\"<style>.container { width:100% !important; }</style>\"))"
   ]
  },
  {
   "cell_type": "code",
   "execution_count": 17,
   "metadata": {},
   "outputs": [],
   "source": [
    "from statsmodels.stats.weightstats import ztest, ttest_ind\n",
    "from scipy import stats\n",
    "from scipy.stats import ttest_ind as ttest_ind_from_scipy\n",
    "import seaborn as sns\n",
    "from statsmodels.stats.power import tt_ind_solve_power\n",
    "from hashlib import sha256\n",
    "from tqdm import tqdm\n",
    "from scipy.stats import kstest\n",
    "import matplotlib"
   ]
  },
  {
   "cell_type": "markdown",
   "metadata": {
    "heading_collapsed": true
   },
   "source": [
    "### Запуск теста"
   ]
  },
  {
   "cell_type": "markdown",
   "metadata": {
    "hidden": true
   },
   "source": [
    "При запуске теста фиксируется **слой** (hash_layer) - в нем происходит разбивка пользователей на ветки.  \n",
    "У каждого слоя своя соль = хеш, который однозначно мапит клиентов на сплиты.  \n",
    "Непересекающиеся экперименты необходимо проводить в одном слое в разных сплитах (с общим контролем).  \n",
    "Пересекающиеся по функционалу эксперименты можно проводить в разных слоях поверх друг друга.  \n",
    "Эффект будет усредняться. Правда может быть несколько уменьшена сравнительная величина эффектов.  "
   ]
  },
  {
   "cell_type": "code",
   "execution_count": 5,
   "metadata": {
    "hidden": true
   },
   "outputs": [
    {
     "data": {
      "text/plain": [
       "'zZdprsvkIs'"
      ]
     },
     "execution_count": 5,
     "metadata": {},
     "output_type": "execute_result"
    }
   ],
   "source": [
    "import string\n",
    "# генерация произвольной соли для слоя эксперимента\n",
    "def _generate_salt(seed=None):\n",
    "    \"\"\"Рандомная соль эксперимента\"\"\"\n",
    "    np.random.seed(seed=seed)\n",
    "    return ''.join(np.random.choice(list(string.ascii_letters), size=10))\n",
    "salt = _generate_salt()\n",
    "salt"
   ]
  },
  {
   "cell_type": "code",
   "execution_count": 8,
   "metadata": {
    "hidden": true
   },
   "outputs": [
    {
     "data": {
      "text/plain": [
       "(8, 1)"
      ]
     },
     "execution_count": 8,
     "metadata": {},
     "output_type": "execute_result"
    }
   ],
   "source": [
    "# Пример выдачи сплита (-> номера ветки) по идентификатору юзера на основе заданной соли слоя\n",
    "def get_split(identifier, salt, n_splits, AB_HASH_LENGTH = 15):\n",
    "    id_hash = sha256((str(identifier) + salt).encode('utf-8')).hexdigest()\n",
    "    split = int(id_hash[:AB_HASH_LENGTH], base=16) % n_splits\n",
    "    return split\n",
    "identifier_1, identifier_2 = 1, 2\n",
    "get_split(identifier_1, salt, 10), get_split(identifier_2, salt, 10)"
   ]
  },
  {
   "cell_type": "markdown",
   "metadata": {
    "heading_collapsed": true
   },
   "source": [
    "### Валидация метрик"
   ]
  },
  {
   "cell_type": "code",
   "execution_count": 23,
   "metadata": {
    "hidden": true
   },
   "outputs": [
    {
     "data": {
      "text/plain": [
       "<module 'help_tools' from '/Users/nikitagavrev/main/analytics_tools/help_tools.py'>"
      ]
     },
     "execution_count": 23,
     "metadata": {},
     "output_type": "execute_result"
    }
   ],
   "source": [
    "import imp\n",
    "import help_tools\n",
    "imp.reload(help_tools)\n",
    "from help_tools import mean_ttest, init_matplot"
   ]
  },
  {
   "cell_type": "code",
   "execution_count": null,
   "metadata": {
    "hidden": true
   },
   "outputs": [],
   "source": [
    "# todo теория "
   ]
  },
  {
   "cell_type": "code",
   "execution_count": 18,
   "metadata": {
    "hidden": true
   },
   "outputs": [],
   "source": [
    "def validation(metric_values, \n",
    "               iterations=10**3,\n",
    "               figsize_xy=(15, 5),\n",
    "               alpha_range=np.arange(0, 0.11, 0.01),\n",
    "               bins=50,\n",
    "               stat_test_func = mean_ttest):\n",
    "    \"\"\"Проверка \"\"\"\n",
    "    # семплирование и АА-тесты\n",
    "    seed_list = np.random.randint(np.iinfo(np.int32).max, size=iterations)\n",
    "    p_value_list = []\n",
    "    metric_values = np.array(metric_values)\n",
    "    for seed in tqdm(seed_list):\n",
    "        np.random.seed(seed=seed)\n",
    "        mask = np.random.randint(0, 2, size=len(metric_values)) > 0\n",
    "        data_a = metric_values[mask]; data_b = metric_values[~mask]\n",
    "        # здесь может быть любая необхоимая функция\n",
    "        p_value, _, _ = mean_ttest(data_b, data_a)\n",
    "        p_value_list.append(p_value)\n",
    "    # проверяем равномерность семплирования p_value (признак прохождения валидации)\n",
    "    _, p_val_uniform = kstest(p_value_list, 'uniform', args=(0, 1), alternative='two-sided')\n",
    "    validation_res = {'is_uniform': p_val_uniform > 0.05, 'p_val_uniform': p_val_uniform}\n",
    "    p_value_list = np.array(p_value_list)\n",
    "    p_value_list_res = p_value_list.copy()\n",
    "    # Визуализация - гистограмма\n",
    "    fig, list_ax = init_matplot(figsize_xy=figsize_xy, subplot_grid=(1, 2))\n",
    "    plt.sca(list_ax[0])\n",
    "    pd.DataFrame({'p_value' : p_value_list}).p_value.hist(bins=bins)\n",
    "    q = round(100 * len(p_value_list[p_value_list < 0.05]) / len(p_value_list), 1)\n",
    "    r = len(p_value_list) / bins\n",
    "    plt.plot([0,1], [r-2*np.sqrt(r), r-2*np.sqrt(r)])\n",
    "    plt.plot([0,1], [r+2*np.sqrt(r), r+2*np.sqrt(r)])\n",
    "    title = f'Равномерность распределения p_value \\n на гистограмме -> {len(p_value_list)} АА-тестов'\n",
    "    plt.xlabel('p_value'); plt.ylabel('Кол-во A/A тестов'); plt.title(title)\n",
    "    # Визуализация - линейный график\n",
    "    plt.sca(list_ax[1])\n",
    "    val_list = [len(p_value_list[p_value_list < alpha]) / len(p_value_list) for alpha in alpha_range]\n",
    "    plt.plot(alpha_range, val_list, 'o-')\n",
    "    plt.plot(alpha_range, alpha_range, '--g')\n",
    "    title = f'Зависимость доли ложных прокрасов от ошибки первого рода теста \\n {validation_res}'\n",
    "    plt.title(title); plt.ylabel('alpha_real'); plt.xlabel('alpha_test')\n",
    "    plt.xticks(alpha_range); plt.yticks(alpha_range); plt.grid(); plt.tight_layout()\n",
    "    return p_value_list_res"
   ]
  },
  {
   "cell_type": "code",
   "execution_count": 27,
   "metadata": {
    "hidden": true
   },
   "outputs": [
    {
     "name": "stderr",
     "output_type": "stream",
     "text": [
      "100%|██████████| 10000/10000 [00:02<00:00, 4811.12it/s]\n"
     ]
    },
    {
     "data": {
      "image/png": "[encoded data removed]",
      "text/plain": [
       "<Figure size 1080x360 with 2 Axes>"
      ]
     },
     "metadata": {
      "needs_background": "light"
     },
     "output_type": "display_data"
    }
   ],
   "source": [
    "# нормально распределенная метрика\n",
    "metric_values = stats.norm.rvs(scale=1, loc=1, size=1000)\n",
    "_ = validation(metric_values, iterations=10**4);"
   ]
  },
  {
   "cell_type": "markdown",
   "metadata": {
    "hidden": true
   },
   "source": [
    "Если в метрике присутствуют выбросы, то по ЦПТ ее **средневыборочное** не распределено нормально.  \n",
    "В этих условиях классические критерии (T-test) не работают корректно.  \n",
    "Дисперсия средневыборочного резко возрастает из за выбросов.  \n",
    "При малых alpha применяемого теста (низкая ошибка первого рода) тест почти всегда дает серый результат (не дает прокрасов).  \n",
    "С ростом alpha (снижается точность теста) - тест наоборот дает много ложных прокрасов из за случайного влияния выброса на А/А.  "
   ]
  },
  {
   "cell_type": "code",
   "execution_count": 33,
   "metadata": {
    "hidden": true
   },
   "outputs": [
    {
     "name": "stderr",
     "output_type": "stream",
     "text": [
      "100%|██████████| 10000/10000 [00:02<00:00, 4826.98it/s]\n"
     ]
    },
    {
     "data": {
      "image/png": "[encoded data removed]",
      "text/plain": [
       "<Figure size 1080x360 with 2 Axes>"
      ]
     },
     "metadata": {
      "needs_background": "light"
     },
     "output_type": "display_data"
    }
   ],
   "source": [
    "# метрика с одиночным выбросом\n",
    "metric_values = np.append(stats.norm.rvs(scale=1, loc=1, size=1000), np.array([40])) \n",
    "_ = validation(metric_values, iterations=10**4);"
   ]
  },
  {
   "cell_type": "code",
   "execution_count": null,
   "metadata": {
    "hidden": true
   },
   "outputs": [],
   "source": []
  },
  {
   "cell_type": "code",
   "execution_count": null,
   "metadata": {
    "hidden": true
   },
   "outputs": [],
   "source": []
  },
  {
   "cell_type": "markdown",
   "metadata": {
    "heading_collapsed": true
   },
   "source": [
    "### Объем выборок"
   ]
  },
  {
   "cell_type": "markdown",
   "metadata": {
    "hidden": true
   },
   "source": [
    "**MDE**  \n",
    "alpha - ошибка 1го рода - вероятность ложного срабатывания теста  \n",
    "betta - ошибка 2го рода - вероятность не-срабатывания теста при реальном различии  \n",
    "power = 1-betta - мощность теста. При фикс alpha чем выше - тем лучше.  \n",
    "\n",
    "Зная ошибки и параметры контрольной выборки в предположении можно для  \n",
    "минимального ожидаемого эффекта (minimal effect size) оценить размер выборок.  \n",
    "\n",
    "Если std_exp ~ std_control:\n",
    "effect_size = mean_delta / std_control  \n",
    "В общем случае:\n",
    "effect_size = mean_delta / std_c  \n",
    "TODO - разобраться.   \n"
   ]
  },
  {
   "cell_type": "code",
   "execution_count": null,
   "metadata": {
    "hidden": true
   },
   "outputs": [],
   "source": [
    "# Поиск MDE по сделанным измерениям\n",
    "# заданы параметры метрики в контрольной выборке:\n",
    "control_loc = 10\n",
    "control = stats.norm.rvs(scale=1, loc=control_loc, size=1000)\n",
    "# для фиксированных ошибок 1го (alpha) и 2го (1-power) рода определяем какое изменение метрики (минимальное) сможем задетектировать\n",
    "power = 0.8 # допускаем серое, когда зеленое в 20% случаев\n",
    "effect_size = tt_ind_solve_power(nobs1=len(control), alpha=0.05, power=power, ratio=1, alternative='two-sided')\n",
    "exp_mean_thr = control_loc + effect_size * np.std(control)\n",
    "# проверяем статистическую нагрузку на тест:\n",
    "stat = []\n",
    "for _ in range(5000):\n",
    "    control = stats.norm.rvs(scale=1, loc=control_loc, size=1000)\n",
    "    exp = stats.norm.rvs(scale=1, loc=exp_mean_thr, size=1000)\n",
    "    a,b = mean_diff_confint(control, exp)\n",
    "    if a>0:\n",
    "        stat.append(1)\n",
    "    else:\n",
    "        stat.append(0)\n",
    "np.mean(stat) # доля прокрасов по доверительному интервалу"
   ]
  },
  {
   "cell_type": "code",
   "execution_count": null,
   "metadata": {
    "hidden": true
   },
   "outputs": [],
   "source": [
    "control_loc = 10\n",
    "control = stats.norm.rvs(scale=1, loc=control_loc, size=1000)\n",
    "mean_delta = 0.05 # минимальная точность измерения\n",
    "\n",
    "effect_size = mean_delta / np.std(control)\n",
    "nobs1 = tt_ind_solve_power(effect_size=effect_size, alpha=0.05, power=0.8, ratio=1, alternative='two-sided')\n",
    "print('N_control/exp', nobs1)\n",
    "# nobs1 - сколько семплов на ветку для различимости заданного эффекта с фикс ошибками\n",
    "# проверяем статистическую нагрузку на тест:\n",
    "stat = []\n",
    "for _ in range(5000):\n",
    "    control = stats.norm.rvs(scale=1, loc=control_loc, size=int(nobs1))\n",
    "    exp = stats.norm.rvs(scale=1, loc=control_loc+mean_delta, size=int(nobs1))\n",
    "    a,b = mean_diff_confint(control, exp)\n",
    "    if a>0:\n",
    "        stat.append(1)\n",
    "    else:\n",
    "        stat.append(0)\n",
    "np.mean(stat) # доля прокрасов по доверительному интервалу"
   ]
  },
  {
   "cell_type": "code",
   "execution_count": null,
   "metadata": {
    "hidden": true
   },
   "outputs": [],
   "source": [
    "def get_n_sample(metric_values,\n",
    "                 delta_list = range(1, 10, 1), # относительное изменение метрики \n",
    "                 alpha = 0.05,\n",
    "                 power=0.8,\n",
    "                 ratio=1 # ratio = n_experiment / n_control\n",
    "                ):\n",
    "    \"\"\"Какое кол-во юзеров потребуется для трекинга разного относительного изменения метрики\"\"\"\n",
    "    df_stat = pd.DataFrame(None, columns=['metric_relative_change_%', 'n_exp_users']); j=0\n",
    "    delta_list = np.array(delta_list) \n",
    "    metric_mean, metric_std = np.mean(metric_values), np.std(metric_values)\n",
    "    for c in delta_list:\n",
    "        effect_size = (metric_mean * c / 100) / metric_std\n",
    "        n_total = (1+ratio) * tt_ind_solve_power(effect_size=effect_size, alpha=alpha, power=power, ratio=ratio, alternative='two-sided')\n",
    "        df_stat.loc[j, :] = c, n_total; j+=1\n",
    "    return df_stat"
   ]
  },
  {
   "cell_type": "code",
   "execution_count": null,
   "metadata": {
    "hidden": true
   },
   "outputs": [],
   "source": []
  },
  {
   "cell_type": "code",
   "execution_count": null,
   "metadata": {
    "hidden": true
   },
   "outputs": [],
   "source": []
  },
  {
   "cell_type": "markdown",
   "metadata": {
    "heading_collapsed": true
   },
   "source": [
    "### Сбалансированность и репрезентативность выборок"
   ]
  },
  {
   "cell_type": "markdown",
   "metadata": {
    "hidden": true
   },
   "source": [
    "Цель теста - сравнение показателей для двух генеральных совокупностей (A/B)  \n",
    "Каждая совокупность семплируется - при этом необходимо контролировать правило доступа каждого семпла г.с. в выборку.  \n",
    "Например, если клиенты не доходят до тестируемого экрана - их можно не включать в выборку.  \n",
    "Остальные клиенты должны иметь равную возможность попадать в выборку!  \n",
    "При этом случайность семплирования должна быть как по популяции, так и по времени.  \n",
    "**Репрезентативность** - обобщаемость используемой выборки на всю генеральную совокупность.  \n",
    "При нестационарном поведении генеральной совокупности во времени необходимо случайно семплировать выборку для теста также по времени.  \n",
    "**Сбалансированность** - правила по ограничению попадания семплов из г.с. в выборку в тесте/контроле должны быть **одинаковые**  "
   ]
  },
  {
   "cell_type": "code",
   "execution_count": null,
   "metadata": {
    "hidden": true
   },
   "outputs": [],
   "source": [
    "# todo chi2 - тест"
   ]
  },
  {
   "cell_type": "markdown",
   "metadata": {
    "heading_collapsed": true
   },
   "source": [
    "### Множественное сравнение"
   ]
  },
  {
   "cell_type": "code",
   "execution_count": null,
   "metadata": {
    "hidden": true
   },
   "outputs": [],
   "source": [
    "# Поправка Бонферони?"
   ]
  },
  {
   "cell_type": "code",
   "execution_count": null,
   "metadata": {
    "hidden": true
   },
   "outputs": [],
   "source": []
  },
  {
   "cell_type": "markdown",
   "metadata": {
    "heading_collapsed": true
   },
   "source": [
    "### Бакетный анализ / децильный анализ"
   ]
  },
  {
   "cell_type": "code",
   "execution_count": null,
   "metadata": {
    "hidden": true
   },
   "outputs": [],
   "source": [
    "# todo\n",
    "# https://www.youtube.com/watch?v=p_5YzShN4sg\n",
    "# децильное распределение val_list1, val_list2 на основании бутстрапа\n",
    "# N-й дециль -> доверительный интервал , контрольное значение "
   ]
  },
  {
   "cell_type": "code",
   "execution_count": null,
   "metadata": {
    "hidden": true
   },
   "outputs": [],
   "source": []
  },
  {
   "cell_type": "code",
   "execution_count": null,
   "metadata": {
    "hidden": true
   },
   "outputs": [],
   "source": []
  },
  {
   "cell_type": "markdown",
   "metadata": {},
   "source": [
    "### Последовательный анализ"
   ]
  },
  {
   "cell_type": "code",
   "execution_count": null,
   "metadata": {},
   "outputs": [],
   "source": []
  },
  {
   "cell_type": "markdown",
   "metadata": {},
   "source": [
    "### Ресемплинг методы"
   ]
  },
  {
   "cell_type": "code",
   "execution_count": null,
   "metadata": {},
   "outputs": [],
   "source": [
    "# бутстрап, пермутации и пуассоновский бутстрап\n"
   ]
  },
  {
   "cell_type": "code",
   "execution_count": null,
   "metadata": {},
   "outputs": [],
   "source": []
  },
  {
   "cell_type": "markdown",
   "metadata": {},
   "source": [
    "### Методы увеличения чувствительности"
   ]
  },
  {
   "cell_type": "code",
   "execution_count": null,
   "metadata": {},
   "outputs": [],
   "source": []
  }
 ],
 "metadata": {
  "kernelspec": {
   "display_name": "Python 3",
   "language": "python",
   "name": "python3"
  },
  "language_info": {
   "codemirror_mode": {
    "name": "ipython",
    "version": 3
   },
   "file_extension": ".py",
   "mimetype": "text/x-python",
   "name": "python",
   "nbconvert_exporter": "python",
   "pygments_lexer": "ipython3",
   "version": "3.7.3"
  },
  "toc": {
   "base_numbering": 1,
   "nav_menu": {},
   "number_sections": false,
   "sideBar": true,
   "skip_h1_title": false,
   "title_cell": "Table of Contents",
   "title_sidebar": "Contents",
   "toc_cell": false,
   "toc_position": {},
   "toc_section_display": true,
   "toc_window_display": false
  },
  "varInspector": {
   "cols": {
    "lenName": 16,
    "lenType": 16,
    "lenVar": 40
   },
   "kernels_config": {
    "python": {
     "delete_cmd_postfix": "",
     "delete_cmd_prefix": "del ",
     "library": "var_list.py",
     "varRefreshCmd": "print(var_dic_list())"
    },
    "r": {
     "delete_cmd_postfix": ") ",
     "delete_cmd_prefix": "rm(",
     "library": "var_list.r",
     "varRefreshCmd": "cat(var_dic_list()) "
    }
   },
   "types_to_exclude": [
    "module",
    "function",
    "builtin_function_or_method",
    "instance",
    "_Feature"
   ],
   "window_display": false
  }
 },
 "nbformat": 4,
 "nbformat_minor": 5
}
