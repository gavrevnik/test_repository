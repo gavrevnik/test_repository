{
 "cells": [
  {
   "cell_type": "code",
   "execution_count": 1,
   "metadata": {},
   "outputs": [],
   "source": [
    "import scipy.stats as st\n",
    "import scipy\n",
    "from statsmodels.stats.weightstats import ztest, ttest_ind\n",
    "import numpy as np\n",
    "import pandas as pd\n",
    "import matplotlib.pyplot as plt\n",
    "import pandas_profiling\n",
    "import requests\n",
    "import sys\n",
    "import inspect"
   ]
  },
  {
   "cell_type": "markdown",
   "metadata": {
    "heading_collapsed": true
   },
   "source": [
    "# Libs"
   ]
  },
  {
   "cell_type": "markdown",
   "metadata": {
    "heading_collapsed": true,
    "hidden": true
   },
   "source": [
    "### jinja"
   ]
  },
  {
   "cell_type": "code",
   "execution_count": null,
   "metadata": {
    "hidden": true
   },
   "outputs": [],
   "source": [
    "http://zetcode.com/python/jinja/#:~:text=Jinja%20simple%20example,create%20a%20very%20simple%20template.&text=The%20example%20asks%20for%20a,and%20have%20many%20more%20features.\n",
    "from jinja2 import Template\n",
    "msg = \"\"\"hello {{ x }}\"\"\"\n",
    "tmpl = Template(msg)\n",
    "tmpl.render(x=5)\n",
    "\n",
    "# пример рендеринг-синтаксиса\n",
    "msg = \"\"\"\n",
    "SELECT\n",
    "{% for i in i_list %}\n",
    "{% if i < 3 %}\n",
    "    {{ i }},\n",
    "{% endif %}\n",
    "{% endfor %}\n",
    "    {{ k }}\n",
    "FROM smth\n",
    "\"\"\"\n",
    "tmpl = Template(msg)\n",
    "print(tmpl.render(k=5, i_list=[1,2,3]))"
   ]
  },
  {
   "cell_type": "code",
   "execution_count": null,
   "metadata": {
    "hidden": true
   },
   "outputs": [],
   "source": []
  },
  {
   "cell_type": "markdown",
   "metadata": {
    "heading_collapsed": true,
    "hidden": true
   },
   "source": [
    "### yaml"
   ]
  },
  {
   "cell_type": "code",
   "execution_count": 1,
   "metadata": {
    "hidden": true
   },
   "outputs": [],
   "source": [
    "import yaml"
   ]
  },
  {
   "cell_type": "code",
   "execution_count": 33,
   "metadata": {
    "hidden": true
   },
   "outputs": [],
   "source": [
    "config_file = './HH/hh_github/hh-airflow/tasks/statistic-puller/ab/employer/employer_cart_purchases_n_days.yaml'\n",
    "with open(config_file, 'r', encoding='utf8') as f:\n",
    "    config = yaml.safe_load(f)"
   ]
  },
  {
   "cell_type": "code",
   "execution_count": 45,
   "metadata": {
    "hidden": true
   },
   "outputs": [
    {
     "data": {
      "text/plain": [
       "{'driver': 'presto',\n",
       " 'params': [{'table': 'ab.employer_cart_purchases_7_days', 'interval': 7},\n",
       "  {'table': 'ab.employer_cart_purchases_14_days', 'interval': 14}],\n",
       " 'insert_sql': 'ab/employer/employer_cart_purchases_n_days.sql',\n",
       " 'dependencies': ['ab.employer_authorized_with_country',\n",
       "  'billing.account',\n",
       "  'billing.cart',\n",
       "  'billing.service',\n",
       "  'billing.services_cart',\n",
       "  'billing.employer_service',\n",
       "  'billing.account_service_package_entry',\n",
       "  'billing.bargain_element']}"
      ]
     },
     "execution_count": 45,
     "metadata": {},
     "output_type": "execute_result"
    }
   ],
   "source": [
    "config"
   ]
  },
  {
   "cell_type": "code",
   "execution_count": 37,
   "metadata": {
    "hidden": true
   },
   "outputs": [],
   "source": [
    "params = config['params'][0]"
   ]
  },
  {
   "cell_type": "code",
   "execution_count": 38,
   "metadata": {
    "hidden": true
   },
   "outputs": [
    {
     "data": {
      "text/plain": [
       "('billing.bargain_element',\n",
       " 'billing.account',\n",
       " 'billing.service',\n",
       " 'billing.account_service_package_entry',\n",
       " 'billing.services_cart',\n",
       " 'billing.employer_service',\n",
       " 'ab.employer_authorized_with_country',\n",
       " 'billing.cart')"
      ]
     },
     "execution_count": 38,
     "metadata": {},
     "output_type": "execute_result"
    }
   ],
   "source": [
    "tuple(set(config.get('dependencies', [])) | set(config['params'][0].get('dependencies', [])))"
   ]
  },
  {
   "cell_type": "code",
   "execution_count": 41,
   "metadata": {
    "hidden": true
   },
   "outputs": [
    {
     "data": {
      "text/plain": [
       "'ab.employer_cart_purchases_7_days'"
      ]
     },
     "execution_count": 41,
     "metadata": {},
     "output_type": "execute_result"
    }
   ],
   "source": [
    "config.get('name', params.get('task_name', params['table']))"
   ]
  },
  {
   "cell_type": "code",
   "execution_count": 44,
   "metadata": {
    "hidden": true
   },
   "outputs": [
    {
     "data": {
      "text/plain": [
       "'#airflow-alerts'"
      ]
     },
     "execution_count": 44,
     "metadata": {},
     "output_type": "execute_result"
    }
   ],
   "source": [
    "params.get('notify', '#airflow-alerts')"
   ]
  },
  {
   "cell_type": "markdown",
   "metadata": {
    "heading_collapsed": true,
    "hidden": true
   },
   "source": [
    "### requests"
   ]
  },
  {
   "cell_type": "code",
   "execution_count": 23,
   "metadata": {
    "hidden": true
   },
   "outputs": [
    {
     "data": {
      "text/plain": [
       "True"
      ]
     },
     "execution_count": 23,
     "metadata": {},
     "output_type": "execute_result"
    }
   ],
   "source": [
    "import requests\n",
    "# GET и передача query-параметров\n",
    "# r=requests.get('https://yandex.ru/search/?lr=213&text=good')\n",
    "r=requests.get('https://yandex.ru/search/', params={'lr' : 213, 'text' : 'good'})\n",
    "'good' in r.text"
   ]
  },
  {
   "cell_type": "code",
   "execution_count": 116,
   "metadata": {
    "hidden": true
   },
   "outputs": [
    {
     "name": "stdout",
     "output_type": "stream",
     "text": [
      "UTF-8\n",
      "b'\\x80\\xd1\\x82 \\xd0\\xb8 \\xd1\\x82\\xd0'\n",
      "анилище. Н\n"
     ]
    }
   ],
   "source": [
    "r=requests.get('https://ya.ru') # получили ответ от сервера\n",
    "print(r.encoding) # какая сейчас кодировка для дешифровки строки. Можно менять в процессе\n",
    "print(r.content[1500:1510]) # raw формат битовой строки ответа\n",
    "print(r.text[1500:1510]) # ответ с автоматической декодировкой "
   ]
  },
  {
   "cell_type": "code",
   "execution_count": 117,
   "metadata": {
    "hidden": true
   },
   "outputs": [
    {
     "data": {
      "text/plain": [
       "dict_keys(['Accept-CH', 'Accept-CH-Lifetime', 'Cache-Control', 'Content-Encoding', 'Content-Security-Policy', 'Content-Type', 'Date', 'Expires', 'Last-Modified', 'P3P', 'Set-Cookie', 'Transfer-Encoding', 'X-Content-Type-Options', 'X-Frame-Options', 'X-Yandex-Sdch-Disable'])"
      ]
     },
     "execution_count": 117,
     "metadata": {},
     "output_type": "execute_result"
    }
   ],
   "source": [
    "# заголовок запрос с мета-информацией\n",
    "dict(r.headers).keys()"
   ]
  },
  {
   "cell_type": "code",
   "execution_count": 118,
   "metadata": {
    "hidden": true
   },
   "outputs": [
    {
     "name": "stdout",
     "output_type": "stream",
     "text": [
      "['i', 'is_gdpr', 'is_gdpr_b', 'mda', 'yandex_gid', 'yandexuid', 'yp']\n",
      "02G60xVWxs5qtBc7x22YY9qxT8mnPurWQJGwfupyPKRlmiNTbqFgRwZsWhIyLG8+3QKySJRYqr7pSkc14s3HmyYGZU0=\n",
      "yp=1604263976.ygu.1; Expires=Mon, 30-Sep-2030 20:52:56 GMT; Domain=.ya.ru; Path=/, mda=0; Expires=Sat, 30-Jan-2021 20:52:56 GMT; Domain=.ya.ru; Path=/, yandex_gid=213; Expires=Sun, 01-Nov-2020 20:52:56 GMT; Domain=.ya.ru; Path=/, yandexuid=4975419011601671976; Expires=Mon, 30-Sep-2030 20:52:56 GMT; Domain=.ya.ru; Path=/, is_gdpr=0; Path=/; Domain=.ya.ru; Expires=Sun, 02 Oct 2022 20:52:56 GMT, is_gdpr_b=CNnvZBC/BCgC; Path=/; Domain=.ya.ru; Expires=Sun, 02 Oct 2022 20:52:56 GMT, i=02G60xVWxs5qtBc7x22YY9qxT8mnPurWQJGwfupyPKRlmiNTbqFgRwZsWhIyLG8+3QKySJRYqr7pSkc14s3HmyYGZU0=; Expires=Sun, 02-Oct-2022 20:52:56 GMT; Domain=.ya.ru; Path=/; Secure; HttpOnly\n"
     ]
    }
   ],
   "source": [
    "\"\"\"\n",
    "АУТЕНТИФИКАЦИЯ - способ опознать конкретного клиента\n",
    "Cookie запроса - небольшой фрагмент отправляемый сервером клиенту при взаимодействии\n",
    "при последующем обращении браузера на сервис с отправкой куков можно атентифицировать пользователя и пр.\n",
    "могут использоваться для персонализации, доступов, таргетирования \n",
    "если браузер поддерживает куки и дал согласие, то куки из заголовка устанавливаются\n",
    "у куков есть проблема безопасности - возможна их кража/подмена при общении по незащищенному каналу\n",
    "\n",
    "Альтернатива:\n",
    "слежение через URL - на странице отправляемой сервером размещается ссылка с get-запросом с\n",
    "уникальными query-параметрами. Однако эта информация неизменна и может шариться, если\n",
    "пользователь передает конкретную ссылку\n",
    "\n",
    "базовая аутентификация - сервер запрашивает логин-пароль, браузер при вводе данных это запоминает\n",
    "и дальше использует при доступе к страницам веб-сайта\n",
    "\"\"\"\n",
    "\n",
    "print(r.cookies.keys())\n",
    "print(r.cookies['i']) # одна из кук\n",
    "print(r.headers['Set-Cookie']) # указание от сервера об установке куков"
   ]
  },
  {
   "cell_type": "code",
   "execution_count": 126,
   "metadata": {
    "hidden": true
   },
   "outputs": [],
   "source": [
    "# сами отправляем куки при запросе\n",
    "r2=requests.get('https://ya.ru', cookies={'cookie_name' : 'test'})"
   ]
  },
  {
   "cell_type": "code",
   "execution_count": 132,
   "metadata": {
    "hidden": true
   },
   "outputs": [
    {
     "ename": "HTTPError",
     "evalue": "401 Client Error: Unauthorized for url: https://api.github.com/users/user",
     "output_type": "error",
     "traceback": [
      "\u001b[0;31m---------------------------------------------------------------------------\u001b[0m",
      "\u001b[0;31mHTTPError\u001b[0m                                 Traceback (most recent call last)",
      "\u001b[0;32m<ipython-input-132-ef9af880b2ee>\u001b[0m in \u001b[0;36m<module>\u001b[0;34m\u001b[0m\n\u001b[1;32m      1\u001b[0m \u001b[0mr\u001b[0m \u001b[0;34m=\u001b[0m \u001b[0mrequests\u001b[0m\u001b[0;34m.\u001b[0m\u001b[0mget\u001b[0m\u001b[0;34m(\u001b[0m\u001b[0;34m'https://api.github.com/users/user'\u001b[0m\u001b[0;34m,\u001b[0m \u001b[0mauth\u001b[0m\u001b[0;34m=\u001b[0m\u001b[0;34m(\u001b[0m\u001b[0;34m'1'\u001b[0m\u001b[0;34m,\u001b[0m \u001b[0;34m'2'\u001b[0m\u001b[0;34m)\u001b[0m\u001b[0;34m)\u001b[0m\u001b[0;34m\u001b[0m\u001b[0;34m\u001b[0m\u001b[0m\n\u001b[1;32m      2\u001b[0m \u001b[0;31m# в случае ошибки запроса - мы можем подробнее исследовать причину\u001b[0m\u001b[0;34m\u001b[0m\u001b[0;34m\u001b[0m\u001b[0;34m\u001b[0m\u001b[0m\n\u001b[0;32m----> 3\u001b[0;31m \u001b[0mr\u001b[0m\u001b[0;34m.\u001b[0m\u001b[0mraise_for_status\u001b[0m\u001b[0;34m(\u001b[0m\u001b[0;34m)\u001b[0m\u001b[0;34m\u001b[0m\u001b[0;34m\u001b[0m\u001b[0m\n\u001b[0m",
      "\u001b[0;32m~/.pyenv/versions/3.7.3/lib/python3.7/site-packages/requests/models.py\u001b[0m in \u001b[0;36mraise_for_status\u001b[0;34m(self)\u001b[0m\n\u001b[1;32m    939\u001b[0m \u001b[0;34m\u001b[0m\u001b[0m\n\u001b[1;32m    940\u001b[0m         \u001b[0;32mif\u001b[0m \u001b[0mhttp_error_msg\u001b[0m\u001b[0;34m:\u001b[0m\u001b[0;34m\u001b[0m\u001b[0;34m\u001b[0m\u001b[0m\n\u001b[0;32m--> 941\u001b[0;31m             \u001b[0;32mraise\u001b[0m \u001b[0mHTTPError\u001b[0m\u001b[0;34m(\u001b[0m\u001b[0mhttp_error_msg\u001b[0m\u001b[0;34m,\u001b[0m \u001b[0mresponse\u001b[0m\u001b[0;34m=\u001b[0m\u001b[0mself\u001b[0m\u001b[0;34m)\u001b[0m\u001b[0;34m\u001b[0m\u001b[0;34m\u001b[0m\u001b[0m\n\u001b[0m\u001b[1;32m    942\u001b[0m \u001b[0;34m\u001b[0m\u001b[0m\n\u001b[1;32m    943\u001b[0m     \u001b[0;32mdef\u001b[0m \u001b[0mclose\u001b[0m\u001b[0;34m(\u001b[0m\u001b[0mself\u001b[0m\u001b[0;34m)\u001b[0m\u001b[0;34m:\u001b[0m\u001b[0;34m\u001b[0m\u001b[0;34m\u001b[0m\u001b[0m\n",
      "\u001b[0;31mHTTPError\u001b[0m: 401 Client Error: Unauthorized for url: https://api.github.com/users/user"
     ]
    }
   ],
   "source": [
    "r = requests.get('https://api.github.com/users/user', auth=('1', '2'))\n",
    "# в случае ошибки запроса - мы можем подробнее исследовать причину\n",
    "r.raise_for_status()"
   ]
  },
  {
   "cell_type": "code",
   "execution_count": 135,
   "metadata": {
    "hidden": true
   },
   "outputs": [
    {
     "data": {
      "text/plain": [
       "[<Response [301]>]"
      ]
     },
     "execution_count": 135,
     "metadata": {},
     "output_type": "execute_result"
    }
   ],
   "source": [
    "# возможность трекать редиректы\n",
    "r=requests.get('https://google.com')\n",
    "r.history  # 301 - статус - редирект"
   ]
  },
  {
   "cell_type": "code",
   "execution_count": 5,
   "metadata": {
    "hidden": true
   },
   "outputs": [
    {
     "name": "stdout",
     "output_type": "stream",
     "text": [
      "········\n",
      "········\n"
     ]
    }
   ],
   "source": [
    "import getpass\n",
    "login = getpass.getpass()\n",
    "password = getpass.getpass()"
   ]
  },
  {
   "cell_type": "code",
   "execution_count": 6,
   "metadata": {
    "hidden": true
   },
   "outputs": [],
   "source": [
    "# session - объект, позволяющий сохранять настройки коммуникации с сервером (persistense)\n",
    "# r = requests.get('https://api.github.com/users/user', auth=(login, password))\n",
    "session = requests.Session()\n",
    "session.auth=(login, password) # и все остальные параметры вроде headers, params ... \n",
    "response=session.get('https://api.github.com/users/gavrevnik')"
   ]
  },
  {
   "cell_type": "code",
   "execution_count": null,
   "metadata": {
    "hidden": true
   },
   "outputs": [],
   "source": [
    "# можно изготавливать динамический пайплайн из методов, ссылок и параметров\n",
    "# для того чтобы взаимодействовать с сервером\n",
    "# см Requests, Session, session.prepare_request(Requests)"
   ]
  },
  {
   "cell_type": "code",
   "execution_count": 1,
   "metadata": {
    "hidden": true
   },
   "outputs": [
    {
     "ename": "NameError",
     "evalue": "name 'requests' is not defined",
     "output_type": "error",
     "traceback": [
      "\u001b[0;31m---------------------------------------------------------------------------\u001b[0m",
      "\u001b[0;31mNameError\u001b[0m                                 Traceback (most recent call last)",
      "\u001b[0;32m<ipython-input-1-8d6be98fed5f>\u001b[0m in \u001b[0;36m<module>\u001b[0;34m\u001b[0m\n\u001b[1;32m     13\u001b[0m \"\"\"\n\u001b[1;32m     14\u001b[0m \u001b[0;32mfrom\u001b[0m \u001b[0mrequests\u001b[0m\u001b[0;34m.\u001b[0m\u001b[0mauth\u001b[0m \u001b[0;32mimport\u001b[0m \u001b[0mHTTPBasicAuth\u001b[0m\u001b[0;34m\u001b[0m\u001b[0;34m\u001b[0m\u001b[0m\n\u001b[0;32m---> 15\u001b[0;31m \u001b[0mr_\u001b[0m \u001b[0;34m=\u001b[0m \u001b[0mrequests\u001b[0m\u001b[0;34m.\u001b[0m\u001b[0mget\u001b[0m\u001b[0;34m(\u001b[0m\u001b[0;34m'https://api.github.com/users/gavrevnik'\u001b[0m\u001b[0;34m,\u001b[0m \u001b[0mauth\u001b[0m\u001b[0;34m=\u001b[0m\u001b[0mHTTPBasicAuth\u001b[0m\u001b[0;34m(\u001b[0m\u001b[0mlogin\u001b[0m\u001b[0;34m,\u001b[0m \u001b[0mpassword\u001b[0m\u001b[0;34m)\u001b[0m\u001b[0;34m)\u001b[0m\u001b[0;34m\u001b[0m\u001b[0;34m\u001b[0m\u001b[0m\n\u001b[0m",
      "\u001b[0;31mNameError\u001b[0m: name 'requests' is not defined"
     ]
    }
   ],
   "source": [
    "\"\"\"\n",
    "АВТОРИЗАЦИЯ - способ передачи клиенту прав доступа на ресурсы сервера\n",
    "\n",
    "HTTPBasicAuth. По умолчанию auth=(log, pass) - базовая авторизация\n",
    "После того, как пользователь вводит пароль - браузер его запоминает и использует самостоятельно\n",
    "По апи креденты передаются прямо в теле http-запроса (не очень секьюрно)\n",
    "\n",
    "HTTPDigestAuth - md5 шифрование пароля базовой аутентификации\n",
    "\n",
    "OAuth - token-based auth\n",
    "Authorization: Bearer \n",
    "Протокол позволяет предоставить третьей стороне ограниченный доступ \n",
    "к защищённым ресурсам пользователя без необходимости передавать ей (третьей стороне) логин и пароль\n",
    "Схема: идем с login,password к серверу. Сервер отправляет обратный запрос со своим идентификатором\n",
    "Подтверждаем что хотим получить права, проверяя адрес сервера\n",
    "Сервер выдает токен на конечное время, который везде используем в запросах\n",
    "\"\"\"\n",
    "from requests.auth import HTTPBasicAuth\n",
    "r_ = requests.get('https://api.github.com/users/gavrevnik', auth=HTTPBasicAuth(login, password))"
   ]
  },
  {
   "cell_type": "code",
   "execution_count": 34,
   "metadata": {
    "hidden": true
   },
   "outputs": [
    {
     "data": {
      "text/plain": [
       "'1'"
      ]
     },
     "execution_count": 34,
     "metadata": {},
     "output_type": "execute_result"
    }
   ],
   "source": [
    "# установили свой локальный сервер и запустили его\n",
    "data = json.dumps({'a' : 1})\n",
    "r=requests.post('http://localhost:1234/hello', json=data)\n",
    "r.text"
   ]
  },
  {
   "cell_type": "code",
   "execution_count": 26,
   "metadata": {
    "hidden": true
   },
   "outputs": [
    {
     "data": {
      "text/plain": [
       "'\"{\\'a\\' : 1}\"'"
      ]
     },
     "execution_count": 26,
     "metadata": {},
     "output_type": "execute_result"
    }
   ],
   "source": [
    "json.dumps(\"\"\"{'a' : 1}\"\"\")"
   ]
  },
  {
   "cell_type": "code",
   "execution_count": null,
   "metadata": {
    "hidden": true
   },
   "outputs": [],
   "source": []
  },
  {
   "cell_type": "markdown",
   "metadata": {
    "heading_collapsed": true,
    "hidden": true
   },
   "source": [
    "### Re"
   ]
  },
  {
   "cell_type": "code",
   "execution_count": null,
   "metadata": {
    "hidden": true
   },
   "outputs": [],
   "source": [
    "import re\n",
    "re.findall('\\w+', text)"
   ]
  },
  {
   "cell_type": "code",
   "execution_count": null,
   "metadata": {
    "hidden": true
   },
   "outputs": [],
   "source": []
  },
  {
   "cell_type": "code",
   "execution_count": null,
   "metadata": {
    "hidden": true
   },
   "outputs": [],
   "source": []
  },
  {
   "cell_type": "markdown",
   "metadata": {
    "hidden": true
   },
   "source": [
    "### ENCODINGS"
   ]
  },
  {
   "cell_type": "code",
   "execution_count": null,
   "metadata": {
    "hidden": true
   },
   "outputs": [],
   "source": [
    "# chardet, codec\n",
    "# вопросы и проблемы кодировок"
   ]
  },
  {
   "cell_type": "markdown",
   "metadata": {
    "heading_collapsed": true
   },
   "source": [
    "# Language"
   ]
  },
  {
   "cell_type": "markdown",
   "metadata": {
    "hidden": true
   },
   "source": [
    "### multi proc/thread"
   ]
  },
  {
   "cell_type": "code",
   "execution_count": 2,
   "metadata": {
    "hidden": true
   },
   "outputs": [],
   "source": [
    "import concurrency"
   ]
  },
  {
   "cell_type": "code",
   "execution_count": 3,
   "metadata": {
    "hidden": true
   },
   "outputs": [
    {
     "name": "stdout",
     "output_type": "stream",
     "text": [
      "[1] => 1\n",
      "[3] => 2\n",
      "[3] => 3\n",
      "[3] => 4\n",
      "[3] => 5\n",
      "[1] => 6\n",
      "[1] => 7\n",
      "[1] => 8\n",
      "[1] => 9\n",
      "[3] => 10\n",
      "[0] => 11\n",
      "[0] => 12\n",
      "[0] => 13\n",
      "[0] => 14\n",
      "[0] => 15\n",
      "[2] => 16\n",
      "[2] => 17\n",
      "[2] => 18\n",
      "[2] => 19\n",
      "[2] => 20\n",
      "[4] => 21\n",
      "[4] => 22\n",
      "[4] => 23\n",
      "[4] => 24\n",
      "[4] => 25\n",
      "finish\n"
     ]
    }
   ],
   "source": [
    "concurrency.thread_ex2()"
   ]
  },
  {
   "cell_type": "code",
   "execution_count": 4,
   "metadata": {
    "hidden": true
   },
   "outputs": [
    {
     "data": {
      "text/plain": [
       "85180"
      ]
     },
     "execution_count": 4,
     "metadata": {},
     "output_type": "execute_result"
    }
   ],
   "source": [
    "os.getpid() # родительский pid\n"
   ]
  },
  {
   "cell_type": "code",
   "execution_count": null,
   "metadata": {
    "hidden": true
   },
   "outputs": [],
   "source": []
  },
  {
   "cell_type": "markdown",
   "metadata": {
    "heading_collapsed": true,
    "hidden": true
   },
   "source": [
    "### Inheritance"
   ]
  },
  {
   "cell_type": "code",
   "execution_count": null,
   "metadata": {
    "hidden": true
   },
   "outputs": [],
   "source": [
    "# зачем нам нужен super() ?"
   ]
  },
  {
   "cell_type": "code",
   "execution_count": null,
   "metadata": {
    "hidden": true
   },
   "outputs": [],
   "source": [
    "class First(object):\n",
    "    def __init__(self, x):\n",
    "        print(\"first\", x)\n",
    "\n",
    "class Second(object):\n",
    "    def __init__(self):\n",
    "        print(\"second\")\n",
    "\n",
    "class Third(First):\n",
    "    def __init__(self):\n",
    "        print('hello')\n",
    "        print(__class__)\n",
    "        First.__init__(self, 3)\n",
    "        \n",
    "\n",
    "Third()   "
   ]
  },
  {
   "cell_type": "markdown",
   "metadata": {
    "heading_collapsed": true,
    "hidden": true
   },
   "source": [
    "### attrs"
   ]
  },
  {
   "cell_type": "markdown",
   "metadata": {
    "hidden": true
   },
   "source": [
    "Методы управления атрибутами вне и внутри инстанса  \n",
    "getattr(obj, attr_name, default) -> val  \n",
    "setattr(obj, attr_name, attr_val) -> obj.attr_name = val  \n",
    "hasattr(obj, attr_name) -> T/F  \n",
    "delattr(obj, attr_name)  \n",
    "аналоги внутри - self.__getattr__(...) ...  \n",
    "Посмотреть список аттрибутов инстанса -> obj.__dict__  \n",
    "\n",
    "property - возможность создавать внутри class сущность \n",
    "attr = property(getx, setx...) с определенными правилами \n",
    "обращения/вычисления. cached_property - аналог синглетона"
   ]
  },
  {
   "cell_type": "code",
   "execution_count": 75,
   "metadata": {
    "hidden": true
   },
   "outputs": [],
   "source": [
    "class Parrot:\n",
    "    def __init__(self):\n",
    "        self._voltage = 100000\n",
    "        self.__x = 2\n",
    "ins = Parrot()"
   ]
  },
  {
   "cell_type": "code",
   "execution_count": 76,
   "metadata": {
    "hidden": true
   },
   "outputs": [],
   "source": [
    "# class property(fget=None, fset=None, fdel=None, doc=None)\n",
    "# гибкое управление свойствами атрибутов инстанса"
   ]
  },
  {
   "cell_type": "code",
   "execution_count": 108,
   "metadata": {
    "hidden": true
   },
   "outputs": [],
   "source": [
    "class C:\n",
    "    def __init__(self):\n",
    "        self._x = None\n",
    "\n",
    "    def getx(self):\n",
    "        return self._x\n",
    "\n",
    "    def setx(self, value):\n",
    "        print(f'set x = {value}')\n",
    "        self._x = value\n",
    "\n",
    "    def delx(self):\n",
    "        del self._x\n",
    "\n",
    "    x = property(getx, setx, delx, \"I'm the 'x' property.\")"
   ]
  },
  {
   "cell_type": "code",
   "execution_count": 118,
   "metadata": {
    "hidden": true
   },
   "outputs": [
    {
     "name": "stdout",
     "output_type": "stream",
     "text": [
      "set x = 3\n"
     ]
    },
    {
     "data": {
      "text/plain": [
       "3"
      ]
     },
     "execution_count": 118,
     "metadata": {},
     "output_type": "execute_result"
    }
   ],
   "source": [
    "ins = C()\n",
    "ins.x = 3\n",
    "ins.x"
   ]
  },
  {
   "cell_type": "code",
   "execution_count": 150,
   "metadata": {
    "hidden": true
   },
   "outputs": [
    {
     "name": "stdout",
     "output_type": "stream",
     "text": [
      "100000\n",
      "value > 0\n",
      "10\n"
     ]
    }
   ],
   "source": [
    "class Parrot:\n",
    "    def __init__(self):\n",
    "        # скрытый атрибут\n",
    "        self._voltage = 100000\n",
    "    @property\n",
    "    # read-only\n",
    "    def voltage(self):\n",
    "        return self._voltage\n",
    "#     декоратором\n",
    "#     voltage = property(voltage)\n",
    "\n",
    "    def voltage_setter(self, value):\n",
    "        if value > 0:\n",
    "            self._voltage = value\n",
    "        else:\n",
    "            print('value > 0')\n",
    "    voltage=voltage.setter(voltage_setter)\n",
    "#     декоратором\n",
    "#     @voltage.setter\n",
    "#     def voltage_setter(self, value) ...\n",
    "    \n",
    "ins = Parrot()\n",
    "print(ins.voltage)\n",
    "ins.voltage = -1\n",
    "ins.voltage = 10\n",
    "print(ins.voltage)"
   ]
  },
  {
   "cell_type": "code",
   "execution_count": 151,
   "metadata": {
    "hidden": true
   },
   "outputs": [],
   "source": [
    "# проверка - есть ли такой атрибут с возможностью его изменения\n",
    "class Parrot:\n",
    "    @property\n",
    "    def voltage(self):\n",
    "        if 'voltage' not in self.__dict__:\n",
    "            self.__dict__['voltage'] = 'default'\n",
    "        return self.__dict__['voltage']\n",
    "    \n",
    "    @voltage.setter\n",
    "    def voltage(self, value):\n",
    "        self.__dict__['voltage'] = value\n",
    "    \n",
    "ins = Parrot()"
   ]
  },
  {
   "cell_type": "code",
   "execution_count": 173,
   "metadata": {
    "hidden": true
   },
   "outputs": [
    {
     "name": "stdout",
     "output_type": "stream",
     "text": [
      "2\n",
      "3\n",
      "4\n",
      "3\n",
      "4\n"
     ]
    }
   ],
   "source": [
    "from cached_property import cached_property\n",
    "class Test:\n",
    "    def __init__(self):\n",
    "        self._x = 1\n",
    "    \n",
    "    @property\n",
    "    def x(self):\n",
    "        self._x += 1\n",
    "        return self._x\n",
    "    \n",
    "    # фиксирует на момент вычисления величину\n",
    "    # возвращает ее постоянное значение\n",
    "    @cached_property\n",
    "    def cached_x(self):\n",
    "        self._x += 1\n",
    "        return self._x\n",
    "ins = Test()\n",
    "\n",
    "print(ins.x)\n",
    "print(ins.x)\n",
    "print(ins.cached_x)\n",
    "ins._x = 2\n",
    "print(ins.x)\n",
    "print(ins.cached_x)"
   ]
  },
  {
   "cell_type": "markdown",
   "metadata": {
    "heading_collapsed": true,
    "hidden": true
   },
   "source": [
    "### iterators"
   ]
  },
  {
   "cell_type": "markdown",
   "metadata": {
    "hidden": true
   },
   "source": [
    "Итерируемый объект - любой объект для которого iter(obj) возвращает иттератор  \n",
    "Последовательность - коллекция элементов, для которой возможен вызов __getitem__ позволяющий обращаться  \n",
    "к элементам коллекции по индексу  \n",
    "__iter__ Метод возвращающий итератор при применении iter(obj)   \n",
    "Если iter(obj) не находит __iter__ то может использовать целочисленную проходку по __getitem__  \n",
    "Поэтому любая последовательность является иттерируемой  \n",
    "\n",
    "Итератор - объект, имеющий __next__ метод, позволяющий при next(obj) последовательно возвращать  \n",
    "элементы объекта до StopIteration, а также __iter__ возвращающий себя (для циклов) -> iter(obj) is obj\n"
   ]
  },
  {
   "cell_type": "code",
   "execution_count": 23,
   "metadata": {
    "hidden": true
   },
   "outputs": [
    {
     "name": "stdout",
     "output_type": "stream",
     "text": [
      "48\n",
      "48\n",
      "200\n",
      "1008\n"
     ]
    }
   ],
   "source": [
    "# range - неявный иттератор с ленивым вычислением\n",
    "x1 = range(10); print(sys.getsizeof(x1))\n",
    "x2 = range(100); print(sys.getsizeof(x2))\n",
    "y1 = list(range(10)); print(sys.getsizeof(y1))\n",
    "y2 = list(range(100)); print(sys.getsizeof(y2))"
   ]
  },
  {
   "cell_type": "code",
   "execution_count": 76,
   "metadata": {
    "hidden": true
   },
   "outputs": [
    {
     "name": "stdout",
     "output_type": "stream",
     "text": [
      "1\n",
      "2\n",
      "3\n"
     ]
    }
   ],
   "source": [
    "# перебор всех слов в строке\n",
    "text = '1 2 3'\n",
    "class Seq:\n",
    "    def __init__(self, text):\n",
    "        self.text = text\n",
    "        self.words = text.split(' ')\n",
    "    def __getitem__(self, index):  # seq[i] -> __getitem__(self, index=i)\n",
    "        return self.words[index]    \n",
    "    def __len__(self):\n",
    "        return len(self.words) # len(seq) -> __len__()\n",
    "ins = Seq(text)\n",
    "for j in ins: # иттерируемая последовательность\n",
    "    print(j)"
   ]
  },
  {
   "cell_type": "code",
   "execution_count": 152,
   "metadata": {
    "hidden": true
   },
   "outputs": [
    {
     "name": "stdout",
     "output_type": "stream",
     "text": [
      "iter(obj)\n",
      "next(obj)\n",
      "1\n",
      "next(obj)\n",
      "2\n",
      "next(obj)\n",
      "3\n",
      "next(obj)\n"
     ]
    }
   ],
   "source": [
    "class Iterator:\n",
    "    \"\"\"Возвращает объект итератора\"\"\"\n",
    "    def __init__(self, seq):\n",
    "        self.seq = seq # объект\n",
    "        self.index = 0 # для обхода объекта\n",
    "    \n",
    "    def __next__(self):\n",
    "        # next(obj) должен давать следующий элемент\n",
    "        print('next(obj)')\n",
    "        try:\n",
    "            elem = self.seq[self.index]\n",
    "        except:\n",
    "            raise StopIteration()\n",
    "        self.index += 1\n",
    "        return elem\n",
    "    \n",
    "    # возвращаем себя\n",
    "    def __iter__(self):\n",
    "        print('iter(obj)')\n",
    "        return self\n",
    "# пример итератора, который создает цикл\n",
    "it = Iterator([1,2,3])\n",
    "# как цикл обрабатывает итератор (перехватывая исключение в конце)\n",
    "for j in it:\n",
    "    print(j)"
   ]
  },
  {
   "cell_type": "code",
   "execution_count": 155,
   "metadata": {
    "hidden": true
   },
   "outputs": [
    {
     "name": "stdout",
     "output_type": "stream",
     "text": [
      "next(obj)\n",
      "hello\n",
      "next(obj)\n",
      "world\n",
      "next(obj)\n"
     ]
    }
   ],
   "source": [
    "text = 'hello world'\n",
    "class Seq_classic:\n",
    "    def __init__(self, text):\n",
    "        self.text = text\n",
    "        self.words = text.split(' ')\n",
    "    # цикл первым делом делаем iter\n",
    "    # и дальше по нему уже next\n",
    "    def __iter__(self):\n",
    "        return Iterator(self.words)\n",
    "    \n",
    "ins = Seq_classic(text)\n",
    "for j in ins:\n",
    "    print(j)"
   ]
  },
  {
   "cell_type": "code",
   "execution_count": 64,
   "metadata": {
    "hidden": true
   },
   "outputs": [
    {
     "name": "stdout",
     "output_type": "stream",
     "text": [
      "2\n",
      "5\n",
      "2\n"
     ]
    }
   ],
   "source": [
    "# применение iter с 2-мя аргументами\n",
    "def seq():\n",
    "    return np.random.choice([1,2,3,4,5])\n",
    "seq_while_3 = iter(seq, 3)\n",
    "for s in seq_while_3:\n",
    "    print(s)"
   ]
  },
  {
   "cell_type": "markdown",
   "metadata": {
    "heading_collapsed": true,
    "hidden": true
   },
   "source": [
    "### generators"
   ]
  },
  {
   "cell_type": "markdown",
   "metadata": {
    "hidden": true
   },
   "source": [
    "Генераторная функция - функция, в которой определено слово yield  \n",
    "Обычная функция возвращает значения, генераторная функция возвращает генератор  \n",
    "Генератор порождает значения при итерировании по нему  \n",
    "Можно задавать генератор генераторным выражением - (j for j in seq)   \n",
    "Вместо for j in seq: yield j  \n",
    "Ленивое вычисление с генератором экономит память и вычислительную мощность,  \n",
    "так как вычисляются только требуемые выражения \"на лету\"  "
   ]
  },
  {
   "cell_type": "code",
   "execution_count": 176,
   "metadata": {
    "hidden": true
   },
   "outputs": [
    {
     "name": "stdout",
     "output_type": "stream",
     "text": [
      "hello\n",
      "world\n"
     ]
    }
   ],
   "source": [
    "# более простой пример реализации из раздела iter\n",
    "class Seq:\n",
    "    def __init__(self, text):\n",
    "        self.text = text\n",
    "        self.words = text.split(' ')\n",
    "    # генераторная функция\n",
    "    # перебор параметров и исключение под капотом\n",
    "    def __iter__(self):\n",
    "        for word in self.words:\n",
    "            yield word\n",
    "ins = Seq('hello world')\n",
    "for j in ins:\n",
    "    print(j)"
   ]
  },
  {
   "cell_type": "code",
   "execution_count": 72,
   "metadata": {
    "hidden": true
   },
   "outputs": [
    {
     "name": "stdout",
     "output_type": "stream",
     "text": [
      "0.0\n",
      "0.5\n",
      "1.0\n"
     ]
    }
   ],
   "source": [
    "# арифметическая прогрессия\n",
    "def ar_prog(x0, d, N):\n",
    "    for j in range(N):\n",
    "        yield x0 + d * j\n",
    "ar=ar_prog(0, 0.5, 3)\n",
    "for j in ar:\n",
    "    print(j)"
   ]
  },
  {
   "cell_type": "code",
   "execution_count": 118,
   "metadata": {
    "hidden": true
   },
   "outputs": [
    {
     "name": "stdout",
     "output_type": "stream",
     "text": [
      "0\n",
      "1\n",
      "1\n",
      "2\n",
      "3\n",
      "5\n"
     ]
    }
   ],
   "source": [
    "# функция Фибоначи\n",
    "def get_fib():\n",
    "    a, b = 0, 1\n",
    "    while True:\n",
    "        yield a\n",
    "        a, b = b, b + a\n",
    "fib = get_fib()\n",
    "c = 0\n",
    "for j in fib:\n",
    "    c+=1\n",
    "    print(j)\n",
    "    if c > 5:\n",
    "        break"
   ]
  },
  {
   "cell_type": "code",
   "execution_count": 38,
   "metadata": {
    "hidden": true
   },
   "outputs": [],
   "source": [
    "# библиотека готовых генераторных функций\n",
    "import itertools\n",
    "it = [1,2,3,4,5]\n",
    "def filt(x):\n",
    "    return x > 3\n",
    "gen = filter(lambda x: x > 3, it) # [4, 5]\n",
    "gen = map(lambda x: x**2, it) # [1, 4, 9, 16, 25]\n",
    "gen = itertools.accumulate(it, min) # cumsum/min/max/...\n",
    "gen = itertools.permutations(it) # перестановки всех элементов"
   ]
  },
  {
   "cell_type": "code",
   "execution_count": 46,
   "metadata": {
    "hidden": true
   },
   "outputs": [
    {
     "data": {
      "text/plain": [
       "True"
      ]
     },
     "execution_count": 46,
     "metadata": {},
     "output_type": "execute_result"
    }
   ],
   "source": [
    "it1, it2 = ['a', 'b', 'c'], [1, 2, 3]\n",
    "gen1, gen2 = zip(it1, it2), map(lambda a,b: (a,b), it1, it2)\n",
    "list(gen1) == list(gen2)"
   ]
  },
  {
   "cell_type": "markdown",
   "metadata": {
    "hidden": true
   },
   "source": [
    "Сопрограммы  \n",
    "Каждый next(gen) вызов генератора итерирует его код до следующего yield и выдает значение\n",
    "gen.send() позволяет передавать данные генератору извне - генератор становится сопрограммой. \n",
    "yield from - конструкция которая позволяет связать вывод генератора с окружающей средой, превратив ее в генератор тоже\n",
    "yield - ключевое слово управления потоком данных - иногда оно лениво отдает информацию, иногда - принимает  \n"
   ]
  },
  {
   "cell_type": "code",
   "execution_count": 100,
   "metadata": {
    "hidden": true
   },
   "outputs": [
    {
     "data": {
      "text/plain": [
       "[0, 1, 4, 9, 16, 25, 36, 49, 64, 81]"
      ]
     },
     "execution_count": 100,
     "metadata": {},
     "output_type": "execute_result"
    }
   ],
   "source": [
    "def genf():\n",
    "    def get_sq(x):\n",
    "        yield x**2\n",
    "    for j in range(10):\n",
    "        yield from get_sq(j) # тунелирование генератора вовне\n",
    "#         yield get_sq(j) # genf - функция выводящая генераторы\n",
    "list(genf())"
   ]
  },
  {
   "cell_type": "code",
   "execution_count": 254,
   "metadata": {
    "hidden": true
   },
   "outputs": [],
   "source": [
    "# сопрограмма принимает параметр и далее отдает его\n",
    "def avg():\n",
    "    total = 0\n",
    "    n = 0\n",
    "    average = None\n",
    "    while True:\n",
    "        new_val = yield average # avg.send(average)\n",
    "        total += new_val\n",
    "        n += 1\n",
    "        average = total / n # avg.yield -> average\n",
    "\n",
    "avg = avg()\n",
    "next(avg) # init - до ближайшего yield\n",
    "print(avg.send(4))\n",
    "print(avg.send(10))"
   ]
  },
  {
   "cell_type": "code",
   "execution_count": 296,
   "metadata": {
    "hidden": true
   },
   "outputs": [
    {
     "name": "stdout",
     "output_type": "stream",
     "text": [
      "pre_step\n"
     ]
    },
    {
     "data": {
      "text/plain": [
       "'init'"
      ]
     },
     "execution_count": 296,
     "metadata": {},
     "output_type": "execute_result"
    }
   ],
   "source": [
    "# сопрограмма принимает параметр и далее отдает его\n",
    "def avg():\n",
    "    x = 'init'\n",
    "    while True:\n",
    "        print('pre_step')\n",
    "        ad = yield x # в x здесь ничего не записывается!\n",
    "        print('from x = ', ad)\n",
    "        x = 'step'\n",
    "        yield x\n",
    "\n",
    "avg = avg()\n",
    "next(avg) # init - до ближайшего yield"
   ]
  },
  {
   "cell_type": "code",
   "execution_count": 297,
   "metadata": {
    "hidden": true
   },
   "outputs": [
    {
     "name": "stdout",
     "output_type": "stream",
     "text": [
      "from x =  input\n"
     ]
    },
    {
     "data": {
      "text/plain": [
       "'step'"
      ]
     },
     "execution_count": 297,
     "metadata": {},
     "output_type": "execute_result"
    }
   ],
   "source": [
    "avg.send('input')"
   ]
  },
  {
   "cell_type": "code",
   "execution_count": null,
   "metadata": {
    "hidden": true
   },
   "outputs": [],
   "source": [
    "inspect.ge"
   ]
  },
  {
   "cell_type": "code",
   "execution_count": 298,
   "metadata": {
    "hidden": true
   },
   "outputs": [
    {
     "name": "stdout",
     "output_type": "stream",
     "text": [
      "pre_step\n"
     ]
    },
    {
     "data": {
      "text/plain": [
       "'step'"
      ]
     },
     "execution_count": 298,
     "metadata": {},
     "output_type": "execute_result"
    }
   ],
   "source": [
    "avg.send('input2')"
   ]
  },
  {
   "cell_type": "code",
   "execution_count": 291,
   "metadata": {
    "hidden": true
   },
   "outputs": [
    {
     "name": "stdout",
     "output_type": "stream",
     "text": [
      "from x =  input3\n"
     ]
    },
    {
     "data": {
      "text/plain": [
       "'step'"
      ]
     },
     "execution_count": 291,
     "metadata": {},
     "output_type": "execute_result"
    }
   ],
   "source": [
    "avg.send('input3')"
   ]
  },
  {
   "cell_type": "markdown",
   "metadata": {
    "heading_collapsed": true,
    "hidden": true
   },
   "source": [
    "### abstract Class"
   ]
  },
  {
   "cell_type": "markdown",
   "metadata": {
    "hidden": true
   },
   "source": [
    "Интерфейсы - наборы открытых методов класса, позволяющие его использовать по введенным соглашениям  \n",
    "Пример - протокол последовательности. Если класс имеет минимальные черты этого протокола - интерпретатор обрабатывает\n",
    "его, как последовательность. \n",
    "\n",
    "Абстрактный класс - это класс, в котором прописана структура, которую необходимо должны соблюдать его потомки\n",
    "При этом сам класс не имеет прямых инстансов. Это инструкция для наследующих:  \n",
    "\"чтобы меня вызвать надо определить то-то и то-то\" При этом свойства могут быть описаны в документации  \n",
    "Также в абстрактном классе могут быть реальные методы \n",
    "\n",
    "Определение абстрактного базового класса позволяет зафиксировать API для семейства потомков"
   ]
  },
  {
   "cell_type": "code",
   "execution_count": 423,
   "metadata": {
    "hidden": true
   },
   "outputs": [
    {
     "ename": "TypeError",
     "evalue": "Can't instantiate abstract class Car with abstract methods move, speed",
     "output_type": "error",
     "traceback": [
      "\u001b[0;31m---------------------------------------------------------------------------\u001b[0m",
      "\u001b[0;31mTypeError\u001b[0m                                 Traceback (most recent call last)",
      "\u001b[0;32m<ipython-input-423-dd64ef45aaa0>\u001b[0m in \u001b[0;36m<module>\u001b[0;34m\u001b[0m\n\u001b[1;32m     15\u001b[0m         \u001b[0mself\u001b[0m\u001b[0;34m.\u001b[0m\u001b[0mcar_name\u001b[0m \u001b[0;34m=\u001b[0m \u001b[0mcar_name\u001b[0m\u001b[0;34m\u001b[0m\u001b[0;34m\u001b[0m\u001b[0m\n\u001b[1;32m     16\u001b[0m \u001b[0;34m\u001b[0m\u001b[0m\n\u001b[0;32m---> 17\u001b[0;31m \u001b[0mins\u001b[0m \u001b[0;34m=\u001b[0m \u001b[0mCar\u001b[0m\u001b[0;34m(\u001b[0m\u001b[0;34m'car_1'\u001b[0m\u001b[0;34m)\u001b[0m\u001b[0;34m\u001b[0m\u001b[0;34m\u001b[0m\u001b[0m\n\u001b[0m",
      "\u001b[0;31mTypeError\u001b[0m: Can't instantiate abstract class Car with abstract methods move, speed"
     ]
    }
   ],
   "source": [
    "import abc\n",
    "# Абстрактный класс с определенными требованиями к потомкам\n",
    "class Movable(abc.ABC):\n",
    "    @abc.abstractmethod\n",
    "    def move():\n",
    "        \"\"\"Переместить объект\"\"\"\n",
    "        \n",
    "    @staticmethod\n",
    "    @abc.abstractmethod\n",
    "    def speed():\n",
    "        \"\"\"Скорость объекта\"\"\"\n",
    "    \n",
    "class Car(Movable):\n",
    "    def __init__(self, car_name):\n",
    "        self.car_name = car_name\n",
    "    \n",
    "ins = Car('car_1')"
   ]
  },
  {
   "cell_type": "code",
   "execution_count": 428,
   "metadata": {
    "hidden": true
   },
   "outputs": [
    {
     "name": "stdout",
     "output_type": "stream",
     "text": [
      "read_only speed\n"
     ]
    }
   ],
   "source": [
    "class Car_fix(Car):\n",
    "    def __init__(self, name):\n",
    "        self.name = name\n",
    "    def move(self):\n",
    "        print('move')\n",
    "    @staticmethod\n",
    "    def speed():\n",
    "        print('read_only speed')\n",
    "    \n",
    "ins=Car_fix(2) \n",
    "ins.speed()"
   ]
  },
  {
   "cell_type": "code",
   "execution_count": 429,
   "metadata": {
    "hidden": true
   },
   "outputs": [
    {
     "ename": "TypeError",
     "evalue": "Can't instantiate abstract class Sq with abstract methods __getitem__, __len__",
     "output_type": "error",
     "traceback": [
      "\u001b[0;31m---------------------------------------------------------------------------\u001b[0m",
      "\u001b[0;31mTypeError\u001b[0m                                 Traceback (most recent call last)",
      "\u001b[0;32m<ipython-input-429-e3455423809e>\u001b[0m in \u001b[0;36m<module>\u001b[0;34m\u001b[0m\n\u001b[1;32m      4\u001b[0m     \u001b[0;32mdef\u001b[0m \u001b[0m__init__\u001b[0m\u001b[0;34m(\u001b[0m\u001b[0mself\u001b[0m\u001b[0;34m)\u001b[0m\u001b[0;34m:\u001b[0m\u001b[0;34m\u001b[0m\u001b[0;34m\u001b[0m\u001b[0m\n\u001b[1;32m      5\u001b[0m         \u001b[0;32mpass\u001b[0m\u001b[0;34m\u001b[0m\u001b[0;34m\u001b[0m\u001b[0m\n\u001b[0;32m----> 6\u001b[0;31m \u001b[0mins\u001b[0m \u001b[0;34m=\u001b[0m \u001b[0mSq\u001b[0m\u001b[0;34m(\u001b[0m\u001b[0;34m)\u001b[0m\u001b[0;34m\u001b[0m\u001b[0;34m\u001b[0m\u001b[0m\n\u001b[0m",
      "\u001b[0;31mTypeError\u001b[0m: Can't instantiate abstract class Sq with abstract methods __getitem__, __len__"
     ]
    }
   ],
   "source": [
    "# Пример использования готового абстрактного класса\n",
    "from collections import abc\n",
    "class Sq(abc.Sequence):\n",
    "    def __init__(self):\n",
    "        pass\n",
    "ins = Sq()"
   ]
  },
  {
   "cell_type": "code",
   "execution_count": null,
   "metadata": {
    "hidden": true
   },
   "outputs": [],
   "source": []
  },
  {
   "cell_type": "code",
   "execution_count": null,
   "metadata": {
    "hidden": true
   },
   "outputs": [],
   "source": []
  },
  {
   "cell_type": "markdown",
   "metadata": {
    "heading_collapsed": true
   },
   "source": [
    "#  OTHER"
   ]
  },
  {
   "cell_type": "markdown",
   "metadata": {
    "heading_collapsed": true,
    "hidden": true
   },
   "source": [
    "### reserach?"
   ]
  },
  {
   "cell_type": "code",
   "execution_count": 2,
   "metadata": {
    "hidden": true
   },
   "outputs": [],
   "source": [
    "x = st.uniform.rvs(size=10000000)\n",
    "y = st.uniform.rvs(size=10000000)"
   ]
  },
  {
   "cell_type": "code",
   "execution_count": 3,
   "metadata": {
    "hidden": true
   },
   "outputs": [
    {
     "data": {
      "text/plain": [
       "0.5000543791750123"
      ]
     },
     "execution_count": 3,
     "metadata": {},
     "output_type": "execute_result"
    }
   ],
   "source": []
  },
  {
   "cell_type": "code",
   "execution_count": 224,
   "metadata": {
    "hidden": true
   },
   "outputs": [
    {
     "data": {
      "text/plain": [
       "3.1417668"
      ]
     },
     "execution_count": 224,
     "metadata": {},
     "output_type": "execute_result"
    }
   ],
   "source": [
    "4 * len([j for j in tuple(zip(x, y)) if (j[0]**2 + j[1]**2 < 1)]) / len(x)"
   ]
  },
  {
   "cell_type": "code",
   "execution_count": 215,
   "metadata": {
    "hidden": true
   },
   "outputs": [],
   "source": [
    "x_ = [j[0] for j in tuple(zip(x, y)) if (j[0]**2 + j[1]**2 < 1)]\n",
    "y_ = [j[1] for j in tuple(zip(x, y)) if (j[0]**2 + j[1]**2 < 1)]"
   ]
  },
  {
   "cell_type": "code",
   "execution_count": 217,
   "metadata": {
    "hidden": true
   },
   "outputs": [
    {
     "data": {
      "text/plain": [
       "<matplotlib.collections.PathCollection at 0x126377908>"
      ]
     },
     "execution_count": 217,
     "metadata": {},
     "output_type": "execute_result"
    },
    {
     "data": {
      "image/png": "[encoded data removed]",
      "text/plain": [
       "<Figure size 432x288 with 1 Axes>"
      ]
     },
     "metadata": {
      "needs_background": "light"
     },
     "output_type": "display_data"
    }
   ],
   "source": [
    "plt.scatter(x=x_, y=y_)"
   ]
  },
  {
   "cell_type": "code",
   "execution_count": null,
   "metadata": {
    "hidden": true
   },
   "outputs": [],
   "source": [
    "# abstract class\n"
   ]
  },
  {
   "cell_type": "code",
   "execution_count": null,
   "metadata": {
    "hidden": true
   },
   "outputs": [],
   "source": [
    "contextlib"
   ]
  },
  {
   "cell_type": "code",
   "execution_count": 99,
   "metadata": {
    "hidden": true
   },
   "outputs": [
    {
     "ename": "AttributeError",
     "evalue": "'rv_frozen' object has no attribute 'loc'",
     "output_type": "error",
     "traceback": [
      "\u001b[0;31m---------------------------------------------------------------------------\u001b[0m",
      "\u001b[0;31mAttributeError\u001b[0m                            Traceback (most recent call last)",
      "\u001b[0;32m<ipython-input-99-62ae31668a5e>\u001b[0m in \u001b[0;36m<module>\u001b[0;34m\u001b[0m\n\u001b[0;32m----> 1\u001b[0;31m \u001b[0mst\u001b[0m\u001b[0;34m.\u001b[0m\u001b[0mchi2\u001b[0m\u001b[0;34m(\u001b[0m\u001b[0mdf\u001b[0m\u001b[0;34m=\u001b[0m\u001b[0;36m0.1\u001b[0m\u001b[0;34m)\u001b[0m\u001b[0;34m.\u001b[0m\u001b[0mloc\u001b[0m\u001b[0;34m\u001b[0m\u001b[0;34m\u001b[0m\u001b[0m\n\u001b[0m",
      "\u001b[0;31mAttributeError\u001b[0m: 'rv_frozen' object has no attribute 'loc'"
     ]
    }
   ],
   "source": [
    "st.chi2(df=0.1)"
   ]
  },
  {
   "cell_type": "code",
   "execution_count": 111,
   "metadata": {
    "hidden": true
   },
   "outputs": [],
   "source": [
    "x = st.chi2.rvs(size=100000, df=0.1)"
   ]
  },
  {
   "cell_type": "code",
   "execution_count": 112,
   "metadata": {
    "hidden": true
   },
   "outputs": [
    {
     "data": {
      "text/plain": [
       "0.09975105720948595"
      ]
     },
     "execution_count": 112,
     "metadata": {},
     "output_type": "execute_result"
    }
   ],
   "source": [
    "np.mean(x)"
   ]
  },
  {
   "cell_type": "code",
   "execution_count": 66,
   "metadata": {
    "hidden": true
   },
   "outputs": [
    {
     "data": {
      "text/plain": [
       "5.100356100637719"
      ]
     },
     "execution_count": 66,
     "metadata": {},
     "output_type": "execute_result"
    }
   ],
   "source": [
    "np.std(x)"
   ]
  },
  {
   "cell_type": "code",
   "execution_count": 67,
   "metadata": {
    "hidden": true
   },
   "outputs": [
    {
     "data": {
      "text/plain": [
       "0.06420575720753738"
      ]
     },
     "execution_count": 67,
     "metadata": {},
     "output_type": "execute_result"
    }
   ],
   "source": [
    "np.mean(x)"
   ]
  },
  {
   "cell_type": "code",
   "execution_count": 82,
   "metadata": {
    "hidden": true
   },
   "outputs": [
    {
     "data": {
      "text/plain": [
       "<matplotlib.axes._subplots.AxesSubplot at 0x12e0d3a90>"
      ]
     },
     "execution_count": 82,
     "metadata": {},
     "output_type": "execute_result"
    },
    {
     "data": {
      "image/png": "[encoded data removed]",
      "text/plain": [
       "<Figure size 432x288 with 1 Axes>"
      ]
     },
     "metadata": {
      "needs_background": "light"
     },
     "output_type": "display_data"
    }
   ],
   "source": [
    "# Иллюстрация ЦПТ\n",
    "# go\n",
    "# x = [1,2,3,4,5,6]\n",
    "# x = list(range(100)) + [10000]\n",
    "x = np.array(list(st.norm.rvs(size=10000)) + list(st.norm.rvs(size=2, loc=500)))\n",
    "# x = st.expon.rvs(size=10000)\n",
    "\n",
    "\n",
    "q = []\n",
    "N = 1000\n",
    "for j in range(3000):\n",
    "    # сумма одинаково распределенных случайных величин \n",
    "    sv =  np.random.choice(x, N, replace=True)\n",
    "#     z = sum(sv)\n",
    "    z = (sum(sv) - N * np.mean(x)) / (np.std(x) * np.sqrt(N))\n",
    "    q.append(z)\n",
    "pd.DataFrame({'q' : q}).q.hist(bins=50)"
   ]
  },
  {
   "cell_type": "code",
   "execution_count": 39,
   "metadata": {
    "hidden": true
   },
   "outputs": [
    {
     "data": {
      "text/plain": [
       "0.01461936786743201"
      ]
     },
     "execution_count": 39,
     "metadata": {},
     "output_type": "execute_result"
    }
   ],
   "source": [
    "np.mean(q)"
   ]
  },
  {
   "cell_type": "code",
   "execution_count": 40,
   "metadata": {
    "hidden": true
   },
   "outputs": [
    {
     "data": {
      "text/plain": [
       "1.0231815223528247"
      ]
     },
     "execution_count": 40,
     "metadata": {},
     "output_type": "execute_result"
    }
   ],
   "source": [
    "np.std(q)"
   ]
  },
  {
   "cell_type": "code",
   "execution_count": 41,
   "metadata": {
    "hidden": true
   },
   "outputs": [],
   "source": [
    "from scipy.stats import mannwhitneyu, sem, t, kstest, ks_2samp, chi2_contingency, chisquare\n"
   ]
  },
  {
   "cell_type": "code",
   "execution_count": 42,
   "metadata": {
    "hidden": true
   },
   "outputs": [
    {
     "data": {
      "text/plain": [
       "KstestResult(statistic=0.03430621458908134, pvalue=0.1855464315155756)"
      ]
     },
     "execution_count": 42,
     "metadata": {},
     "output_type": "execute_result"
    }
   ],
   "source": [
    "kstest(q, 'norm')"
   ]
  },
  {
   "cell_type": "code",
   "execution_count": null,
   "metadata": {
    "hidden": true
   },
   "outputs": [],
   "source": []
  },
  {
   "cell_type": "markdown",
   "metadata": {
    "heading_collapsed": true,
    "hidden": true
   },
   "source": [
    "### Visual"
   ]
  },
  {
   "cell_type": "code",
   "execution_count": 26,
   "metadata": {
    "hidden": true
   },
   "outputs": [],
   "source": [
    "def init_matplot(figsize_xy=(10,5), subplot_grid=None):\n",
    "    \"\"\"Преднастройка отображения графиков в plt\"\"\"\n",
    "    import matplotlib\n",
    "    matplotlib.rcParams['figure.figsize'] = figsize_xy\n",
    "    matplotlib.rcParams['figure.titlesize'] = 20\n",
    "    matplotlib.rcParams['font.size'] = 20\n",
    "    matplotlib.rcParams['legend.fontsize'] = 20\n",
    "    matplotlib.rcParams['axes.titlesize'] = 22\n",
    "    matplotlib.rcParams['axes.labelsize'] = 20\n",
    "    matplotlib.rcParams['xtick.labelsize'] = 15\n",
    "    matplotlib.rcParams['ytick.labelsize'] = 15\n",
    "    matplotlib.rcParams['lines.linewidth'] = 4\n",
    "    \n",
    "    # сетка графиков - на выходе fig, list_ax[n,m]\n",
    "    # управление через plt.sca(ax)\n",
    "    if subplot_grid:\n",
    "        m, n = subplot_grid\n",
    "        return plt.subplots(m, n)"
   ]
  },
  {
   "cell_type": "code",
   "execution_count": 27,
   "metadata": {
    "hidden": true
   },
   "outputs": [],
   "source": [
    "def visualise_dynamic_df(df=None, figsize_xy=(10, 5)):\n",
    "    \"\"\"Визуализируем динамические параметры при накоплении выборки эксперимента\n",
    "    df -> days_at_exp_start, p_value, std_exp, std_control, mde_list\n",
    "    \"\"\"\n",
    "    if df is None:\n",
    "        df = pd.DataFrame({'p_value' : [1,2,3]})\n",
    "    days_list = df.days_at_exp_start.tolist()\n",
    "    # графики для прорисовки\n",
    "    subplot_grid = (1, 3)\n",
    "    fig, list_ax = init_matplot(figsize_xy, subplot_grid)\n",
    "    plt.sca(list_ax[0])\n",
    "    p_value_list = df.p_value.tolist()\n",
    "    plt.plot(days_list, p_value_list)\n",
    "    plt.title('Динамика p_value для А/Б выборок в \\n зависимости от дня эксперимента')\n",
    "    plt.axhline(y=self._alpha, xmin=min(days_list), xmax=max(days_list),  color='r', linestyle='--')\n",
    "    plt.xlabel('Дней с начала эксперимента'); plt.ylabel('p_value'); plt.grid()"
   ]
  },
  {
   "cell_type": "code",
   "execution_count": null,
   "metadata": {
    "hidden": true
   },
   "outputs": [],
   "source": []
  },
  {
   "cell_type": "markdown",
   "metadata": {
    "heading_collapsed": true,
    "hidden": true
   },
   "source": [
    "### class_methods"
   ]
  },
  {
   "cell_type": "code",
   "execution_count": null,
   "metadata": {
    "hidden": true
   },
   "outputs": [],
   "source": [
    "class car_creator:\n",
    "    __car_hist = []\n",
    "    car_n = 0\n",
    "    \n",
    "    @classmethod   \n",
    "    def _car_num(cls, car_name):\n",
    "        cls.car_n +=1\n",
    "        cls.__car_hist.append({cls.car_n : car_name})\n",
    "        return cls.car_n\n",
    "    \n",
    "    def __init__(self, car_name):\n",
    "        self.car_name = car_name\n",
    "        car_n = self._car_num(car_name)\n",
    "        self.car_n = car_n\n",
    "#         self.car_hist = None"
   ]
  },
  {
   "cell_type": "code",
   "execution_count": null,
   "metadata": {
    "hidden": true
   },
   "outputs": [],
   "source": [
    "car1=car_creator('audi')\n",
    "car2=car_creator('bmw')\n",
    "car3=car_creator('volvo')"
   ]
  }
 ],
 "metadata": {
  "kernelspec": {
   "display_name": "Python 3",
   "language": "python",
   "name": "python3"
  },
  "language_info": {
   "codemirror_mode": {
    "name": "ipython",
    "version": 3
   },
   "file_extension": ".py",
   "mimetype": "text/x-python",
   "name": "python",
   "nbconvert_exporter": "python",
   "pygments_lexer": "ipython3",
   "version": "3.7.3"
  },
  "toc": {
   "base_numbering": "",
   "nav_menu": {},
   "number_sections": false,
   "sideBar": true,
   "skip_h1_title": false,
   "title_cell": "Table of Contents",
   "title_sidebar": "Contents",
   "toc_cell": false,
   "toc_position": {
    "height": "calc(100% - 180px)",
    "left": "10px",
    "top": "150px",
    "width": "288px"
   },
   "toc_section_display": true,
   "toc_window_display": false
  },
  "varInspector": {
   "cols": {
    "lenName": 16,
    "lenType": 16,
    "lenVar": 40
   },
   "kernels_config": {
    "python": {
     "delete_cmd_postfix": "",
     "delete_cmd_prefix": "del ",
     "library": "var_list.py",
     "varRefreshCmd": "print(var_dic_list())"
    },
    "r": {
     "delete_cmd_postfix": ") ",
     "delete_cmd_prefix": "rm(",
     "library": "var_list.r",
     "varRefreshCmd": "cat(var_dic_list()) "
    }
   },
   "types_to_exclude": [
    "module",
    "function",
    "builtin_function_or_method",
    "instance",
    "_Feature"
   ],
   "window_display": false
  }
 },
 "nbformat": 4,
 "nbformat_minor": 4
}
